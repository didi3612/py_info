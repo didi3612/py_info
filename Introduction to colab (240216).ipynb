{
 "cells": [
  {
   "cell_type": "markdown",
   "metadata": {
    "id": "GRChSWQRG3pA"
   },
   "source": [
    "###  **<font color=\"darkpink\">Introduction to Colab ! </font>** 🍎 🍏 🍌 🍇\n",
    "\n",
    "Colab &#40;全名為「Colaboratory」&#41; 可讓你在瀏覽器中編寫及執行 Python 程式碼，並具有以下優點：\n",
    "- 只需登入google帳號，即可使用colab，連結URL https://colab.research.google.com/\n",
    "\n",
    "  > 學校有提供每人gmail帳號**(學號 + @g.nccu.edu.tw)**\n",
    "\n",
    "- 免付費使用 GPU，如果有接觸機器學習(Machine Learning)或深度學習(Deep Learning)就會使用到。\n",
    "\n",
    "- 檔案存在你的google drive裡面，**所以如果要當作作業繳交，只要開啟共用，給對方連結，並提供檢視的權限。**\n",
    "\n",
    "**<font color=\"darkblue\">假設你已經用過 jupyter notebook了，你會發現colab也是以筆記本的形式呈現，其操作功能也相似。</font>**\n",
    "\n",
    "<img src=\"https://tigue.com/static/d61d46c29725f1c0d1a8bb6dfbaf9ca1/11d19/jupyter_book_to_colab.png\" width=400>"
   ]
  },
  {
   "cell_type": "markdown",
   "metadata": {
    "id": "g_tmVFfxsH6o"
   },
   "source": [
    "### Colab Notebook環境介紹\n",
    "\n",
    "- 左上角[+Code]與[+Text]分別能夠新增一個[Cell]，來執行程式或是用Markdown語法寫筆記。\n",
    "- 如果要執行程式，可以點選程式碼旁邊的符號執行，或是[Shift]+[Enter]執行程式碼。\n"
   ]
  },
  {
   "cell_type": "code",
   "execution_count": 1,
   "metadata": {
    "colab": {
     "base_uri": "https://localhost:8080/",
     "height": 0
    },
    "executionInfo": {
     "elapsed": 468,
     "status": "ok",
     "timestamp": 1708067576280,
     "user": {
      "displayName": "李友棣",
      "userId": "00859472704707161873"
     },
     "user_tz": -480
    },
    "id": "ZZjbzis6MKG3",
    "outputId": "f273f35f-270b-4f51-beaa-b41407ff23e2"
   },
   "outputs": [
    {
     "name": "stdout",
     "output_type": "stream",
     "text": [
      "Hello! World!\n"
     ]
    }
   ],
   "source": [
    "print(\"Hello! World!\")  #可以嘗試建立cell，並寫一段程式執行看看~"
   ]
  },
  {
   "cell_type": "markdown",
   "metadata": {
    "id": "ZuGWW3G1L8GZ"
   },
   "source": [
    "\n",
    "### Colab問題目錄 :\n",
    "\n",
    "1. colab 與 jupyter 都可以使用 Markdown語法及$\\LaTeX$數學公式\n",
    "2. 如何讓 Google 雲端硬碟檔案與 Colab 連結?\n",
    "3. 如何匯入雲端硬碟的圖片與數據集?\n",
    "4. Colab中文顯示異常問題\n",
    "5. Colab中的Magic Command\n"
   ]
  },
  {
   "cell_type": "markdown",
   "metadata": {
    "id": "YUOnmEgkLnkS"
   },
   "source": [
    " ##### **<font color=\"darkblue\"> 1. colab 與 jupyter 都可以使用 Markdown語法及$\\LaTeX$數學公式。</font>**\n",
    "\n",
    ">連接有更完整的介紹一些基礎語法 https://colab.research.google.com/notebooks/markdown_guide.ipynb#scrollTo=Lhfnlq1Surtk\n",
    "\n",
    "\n",
    "\n",
    "Markdown | Preview\n",
    "--- | ---\n",
    "`**bold text**` | **bold text**\n",
    "`*italicized text*` or `_italicized text_` | *italicized text*\n",
    "`` `Monospace` `` | `Monospace`\n",
    "`~~strikethrough~~` | ~~strikethrough~~\n",
    "`[A link](https://www.google.com)` | [A link](https://www.google.com)\n",
    "`![An image](https://www.google.com/images/rss.png)` | ![An image](https://www.google.com/images/rss.png)\n",
    "---\n",
    "\n",
    "\n",
    "例如使用$\\LaTeX$:  `$\\sqrt{3x-1}+(1+x)^2$` ，呈現出\n",
    "$\\sqrt{3x-1}+(1+x)^2.$\n"
   ]
  },
  {
   "cell_type": "markdown",
   "metadata": {
    "id": "mFbATqsGVqg5"
   },
   "source": [
    "\n",
    "##### **<font color=\"darkblue\">2. 如何讓 Google 雲端硬碟檔案與 Colab 連結?**\n",
    "\n",
    "\n",
    "\n",
    "- 點選左側的file圖示，然後點選上方第三個圖示mount drive(掛階雲端硬碟)，然後同意條款。\n",
    "\n",
    "- drive > MyDrive > **<font color=\"darkred\">[這邊就是你的雲端硬碟內容]</font>** 🖥\n",
    "\n",
    "<center><img src=\"https://steam.oxxostudio.tw/webp/python/info/online-editor-09.webp\"  height=300></center>"
   ]
  },
  {
   "cell_type": "code",
   "execution_count": 2,
   "metadata": {
    "executionInfo": {
     "elapsed": 2,
     "status": "ok",
     "timestamp": 1708067576596,
     "user": {
      "displayName": "李友棣",
      "userId": "00859472704707161873"
     },
     "user_tz": -480
    },
    "id": "rxFV7FXfXpcE"
   },
   "outputs": [],
   "source": [
    "# from google.colab import drive\n",
    "# drive.mount('/content/drive')"
   ]
  },
  {
   "cell_type": "markdown",
   "metadata": {
    "id": "04jO1jFAb1yZ"
   },
   "source": [
    "##### **<font color=\"darkblue\">3. 如何匯入雲端硬碟的圖片與數據集?**\n",
    "\n",
    "- 左側點選file後，找到你雲端硬碟中的檔案，**<font color=\"darkred\">按壓[右鍵]>[copy path]</font>**，得到檔案連結\n",
    "\n",
    "```\n",
    "!wget --no-check-certificate \\\n",
    "    https://github.com/didi3612/didi/raw/main/EEEEEEEEEE.png \\\n",
    "    -O /content/EEEEEEEEEE.png\n",
    "```\n"
   ]
  },
  {
   "cell_type": "code",
   "execution_count": 3,
   "metadata": {
    "colab": {
     "base_uri": "https://localhost:8080/",
     "height": 0
    },
    "executionInfo": {
     "elapsed": 324,
     "status": "ok",
     "timestamp": 1708067576918,
     "user": {
      "displayName": "李友棣",
      "userId": "00859472704707161873"
     },
     "user_tz": -480
    },
    "id": "F64Ta8M4c_Bi",
    "outputId": "36f136e6-1c62-4de3-cf3d-74532252ec7e"
   },
   "outputs": [
    {
     "name": "stdout",
     "output_type": "stream",
     "text": [
      "--2024-02-16 07:12:56--  https://github.com/didi3612/didi/raw/main/EEEEEEEEEE.png\n",
      "Resolving github.com (github.com)... 140.82.113.4\n",
      "Connecting to github.com (github.com)|140.82.113.4|:443... connected.\n",
      "HTTP request sent, awaiting response... 302 Found\n",
      "Location: https://raw.githubusercontent.com/didi3612/didi/main/EEEEEEEEEE.png [following]\n",
      "--2024-02-16 07:12:56--  https://raw.githubusercontent.com/didi3612/didi/main/EEEEEEEEEE.png\n",
      "Resolving raw.githubusercontent.com (raw.githubusercontent.com)... 185.199.109.133, 185.199.111.133, 185.199.108.133, ...\n",
      "Connecting to raw.githubusercontent.com (raw.githubusercontent.com)|185.199.109.133|:443... connected.\n",
      "HTTP request sent, awaiting response... 200 OK\n",
      "Length: 25880 (25K) [image/png]\n",
      "Saving to: ‘/content/EEEEEEEEEE.png’\n",
      "\n",
      "\r",
      "/content/EEEEEEEEEE   0%[                    ]       0  --.-KB/s               \r",
      "/content/EEEEEEEEEE 100%[===================>]  25.27K  --.-KB/s    in 0.002s  \n",
      "\n",
      "2024-02-16 07:12:56 (10.4 MB/s) - ‘/content/EEEEEEEEEE.png’ saved [25880/25880]\n",
      "\n"
     ]
    }
   ],
   "source": [
    "# 當你執行完這格cell後，可以點左側的file看到，有個檔案[EEEEEEEEEE.png]\n",
    "!wget --no-check-certificate \\\n",
    "    https://github.com/didi3612/didi/raw/main/EEEEEEEEEE.png \\\n",
    "    -O /content/EEEEEEEEEE.png"
   ]
  },
  {
   "cell_type": "markdown",
   "metadata": {
    "id": "dK7Ns8I4dv_C"
   },
   "source": [
    " ###### **<font color=\"darkblue\">(1)匯入雲端硬碟的圖片**\n",
    "\n",
    "我們嘗試使用copy path，**<font color=\"darkpink\">讀取EEEEEEEEEE.png 的圖片檔案</font>**，其連結為\"/content/EEEEEEEEEE.png\""
   ]
  },
  {
   "cell_type": "code",
   "execution_count": 4,
   "metadata": {
    "executionInfo": {
     "elapsed": 472,
     "status": "ok",
     "timestamp": 1708067577389,
     "user": {
      "displayName": "李友棣",
      "userId": "00859472704707161873"
     },
     "user_tz": -480
    },
    "id": "KDTjkNJRdDMR"
   },
   "outputs": [],
   "source": [
    "%matplotlib inline\n",
    "import numpy as np\n",
    "import matplotlib.pyplot as plt\n",
    "import pandas as pd\n",
    "from ipywidgets import interact\n",
    "from ipywidgets.widgets import interact_manual\n",
    "from PIL import Image, ImageFilter"
   ]
  },
  {
   "cell_type": "code",
   "execution_count": 5,
   "metadata": {
    "colab": {
     "base_uri": "https://localhost:8080/",
     "height": 423,
     "referenced_widgets": [
      "1a736e7de4534f28aeb4fc7ee0dd2e06",
      "b18c2f5d77da40e197209a009cd1d2f3",
      "612aada1e6114b98b4a0153bd46d6b86",
      "1bac129fdb55459795229353300bb5c9",
      "c5a9aa2eeb2443578d347d849fff03ac",
      "6857b5f6d2cc444498d4c4e3e214412d",
      "1c7e27cf72524eae8aef2d7639d7d8b9",
      "0ee609b6727648ae944b9d1e9779e1cb",
      "dfce205046b94a97a36d015fef75b4c7",
      "d34e3daecab94551a4bdc740a68a1169"
     ]
    },
    "executionInfo": {
     "elapsed": 4,
     "status": "ok",
     "timestamp": 1708067577390,
     "user": {
      "displayName": "李友棣",
      "userId": "00859472704707161873"
     },
     "user_tz": -480
    },
    "id": "nFjrwMeQdJ1z",
    "outputId": "b91ce972-2282-41e6-a049-dd3926ada82d"
   },
   "outputs": [
    {
     "data": {
      "application/vnd.jupyter.widget-view+json": {
       "model_id": "1a736e7de4534f28aeb4fc7ee0dd2e06",
       "version_major": 2,
       "version_minor": 0
      },
      "text/plain": [
       "interactive(children=(IntSlider(value=4, description='x', max=8), Button(description='Run Interact', style=But…"
      ]
     },
     "metadata": {},
     "output_type": "display_data"
    },
    {
     "data": {
      "text/html": [
       "<div style=\"max-width:800px; border: 1px solid var(--colab-border-color);\"><style>\n",
       "      pre.function-repr-contents {\n",
       "        overflow-x: auto;\n",
       "        padding: 8px 12px;\n",
       "        max-height: 500px;\n",
       "      }\n",
       "\n",
       "      pre.function-repr-contents.function-repr-contents-collapsed {\n",
       "        cursor: pointer;\n",
       "        max-height: 100px;\n",
       "      }\n",
       "    </style>\n",
       "    <pre style=\"white-space: initial; background:\n",
       "         var(--colab-secondary-surface-color); padding: 8px 12px;\n",
       "         border-bottom: 1px solid var(--colab-border-color);\"><b>f</b><br/>def f(x)</pre><pre class=\"function-repr-contents function-repr-contents-collapsed\" style=\"\"><a class=\"filepath\" style=\"display:none\" href=\"#\">/content/&lt;ipython-input-5-8a516225d076&gt;</a>&lt;no docstring&gt;</pre></div>"
      ],
      "text/plain": [
       "<function __main__.f(x)>"
      ]
     },
     "execution_count": 5,
     "metadata": {},
     "output_type": "execute_result"
    }
   ],
   "source": [
    "# 定義成一函數型態\n",
    "\n",
    "img = Image.open(\"/content/EEEEEEEEEE.png\")\n",
    "def f(x):\n",
    "    img = Image.open(\"/content/EEEEEEEEEE.png\")\n",
    "    new = img.resize((256, 256)) # 調整圖片大小\n",
    "    pic = new.filter(ImageFilter.BoxBlur(x))  # 套用 BoxBlur，設定模糊半徑為 x ,設定 0<=x<=8\n",
    "    return pic\n",
    "\n",
    "interact_manual(f,x=(0,8))  # 請壓下 Run Interact 表示啟動"
   ]
  },
  {
   "cell_type": "markdown",
   "metadata": {
    "id": "w3h-76tgb_ps"
   },
   "source": [
    "<font color=lightseagreen> **嘗試去調整數值滑桿，並按壓[Run Interact]，可以發現越向右邊移動,圖片會變得較模糊**</font>\n"
   ]
  },
  {
   "cell_type": "code",
   "execution_count": 6,
   "metadata": {
    "colab": {
     "base_uri": "https://localhost:8080/",
     "height": 0
    },
    "executionInfo": {
     "elapsed": 544,
     "status": "ok",
     "timestamp": 1708067577931,
     "user": {
      "displayName": "李友棣",
      "userId": "00859472704707161873"
     },
     "user_tz": -480
    },
    "id": "CDprZCj3eY5j",
    "outputId": "16ed9371-8d69-4d31-bb73-ba4ca117076c"
   },
   "outputs": [
    {
     "name": "stdout",
     "output_type": "stream",
     "text": [
      "--2024-02-16 07:12:57--  https://github.com/didi3612/didi/raw/main/population%20.csv\n",
      "Resolving github.com (github.com)... 140.82.113.4\n",
      "Connecting to github.com (github.com)|140.82.113.4|:443... connected.\n",
      "HTTP request sent, awaiting response... 302 Found\n",
      "Location: https://raw.githubusercontent.com/didi3612/didi/main/population%20.csv [following]\n",
      "--2024-02-16 07:12:57--  https://raw.githubusercontent.com/didi3612/didi/main/population%20.csv\n",
      "Resolving raw.githubusercontent.com (raw.githubusercontent.com)... 185.199.108.133, 185.199.109.133, 185.199.110.133, ...\n",
      "Connecting to raw.githubusercontent.com (raw.githubusercontent.com)|185.199.108.133|:443... connected.\n",
      "HTTP request sent, awaiting response... 200 OK\n",
      "Length: 850 [text/plain]\n",
      "Saving to: ‘/content/population.csv’\n",
      "\n",
      "/content/population 100%[===================>]     850  --.-KB/s    in 0s      \n",
      "\n",
      "2024-02-16 07:12:57 (71.2 MB/s) - ‘/content/population.csv’ saved [850/850]\n",
      "\n"
     ]
    }
   ],
   "source": [
    "!wget --no-check-certificate \\\n",
    "   https://github.com/didi3612/didi/raw/main/population%20.csv\\\n",
    "    -O /content/population.csv\n",
    "\n",
    "# 當你執行完這格cell後，可以點左側的file看到，有個檔案[population.csv]"
   ]
  },
  {
   "cell_type": "markdown",
   "metadata": {
    "id": "cYA2JVOQnUSv"
   },
   "source": [
    "###### **<font color=\"darkblue\">(2)使用雲端硬碟的資料集**\n",
    "\n",
    "`新增功能` : 執行完下方cell，**<font color=\"darkpink\">點選[View recommended plots]</font>**"
   ]
  },
  {
   "cell_type": "code",
   "execution_count": 7,
   "metadata": {
    "colab": {
     "base_uri": "https://localhost:8080/",
     "height": 206
    },
    "executionInfo": {
     "elapsed": 547,
     "status": "ok",
     "timestamp": 1708067578477,
     "user": {
      "displayName": "李友棣",
      "userId": "00859472704707161873"
     },
     "user_tz": -480
    },
    "id": "jdrg2rHNnSBw",
    "outputId": "7a05fc1a-2f21-4bca-bc99-5cce1c81424d"
   },
   "outputs": [
    {
     "data": {
      "application/vnd.google.colaboratory.intrinsic+json": {
       "summary": "{\n  \"name\": \"data\",\n  \"rows\": 12,\n  \"fields\": [\n    {\n      \"column\": \"\\u5e74\\u4efd\",\n      \"properties\": {\n        \"dtype\": \"number\",\n        \"std\": 0,\n        \"min\": 112,\n        \"max\": 112,\n        \"samples\": [\n          112\n        ],\n        \"num_unique_values\": 1,\n        \"semantic_type\": \"\",\n        \"description\": \"\"\n      }\n    },\n    {\n      \"column\": \"\\u6708\\u4efd\",\n      \"properties\": {\n        \"dtype\": \"number\",\n        \"std\": 0,\n        \"min\": 1,\n        \"max\": 1,\n        \"samples\": [\n          1\n        ],\n        \"num_unique_values\": 1,\n        \"semantic_type\": \"\",\n        \"description\": \"\"\n      }\n    },\n    {\n      \"column\": \"\\u884c\\u653f\\u5340\",\n      \"properties\": {\n        \"dtype\": \"string\",\n        \"samples\": [\n          \"\\u58eb\\u6797\\u5340\"\n        ],\n        \"num_unique_values\": 12,\n        \"semantic_type\": \"\",\n        \"description\": \"\"\n      }\n    },\n    {\n      \"column\": \"\\u91cc\\u6578_\\u73fe\\u6709\\u9580\\u724c\",\n      \"properties\": {\n        \"dtype\": \"number\",\n        \"std\": 9,\n        \"min\": 20,\n        \"max\": 53,\n        \"samples\": [\n          25\n        ],\n        \"num_unique_values\": 11,\n        \"semantic_type\": \"\",\n        \"description\": \"\"\n      }\n    },\n    {\n      \"column\": \"\\u91cc\\u6578_\\u6236\\u7c4d\\u767b\\u8a18\",\n      \"properties\": {\n        \"dtype\": \"number\",\n        \"std\": 9,\n        \"min\": 20,\n        \"max\": 53,\n        \"samples\": [\n          25\n        ],\n        \"num_unique_values\": 11,\n        \"semantic_type\": \"\",\n        \"description\": \"\"\n      }\n    },\n    {\n      \"column\": \"\\u9130\\u6578_\\u73fe\\u6709\\u9580\\u724c\",\n      \"properties\": {\n        \"dtype\": \"number\",\n        \"std\": 193,\n        \"min\": 454,\n        \"max\": 1026,\n        \"samples\": [\n          996\n        ],\n        \"num_unique_values\": 12,\n        \"semantic_type\": \"\",\n        \"description\": \"\"\n      }\n    },\n    {\n      \"column\": \"\\u9130\\u6578_\\u6236\\u7c4d\\u767b\\u8a18\",\n      \"properties\": {\n        \"dtype\": \"number\",\n        \"std\": 193,\n        \"min\": 454,\n        \"max\": 1021,\n        \"samples\": [\n          995\n        ],\n        \"num_unique_values\": 12,\n        \"semantic_type\": \"\",\n        \"description\": \"\"\n      }\n    },\n    {\n      \"column\": \"\\u6236\\u6578\",\n      \"properties\": {\n        \"dtype\": \"number\",\n        \"std\": 23277,\n        \"min\": 47872,\n        \"max\": 118317,\n        \"samples\": [\n          107108\n        ],\n        \"num_unique_values\": 12,\n        \"semantic_type\": \"\",\n        \"description\": \"\"\n      }\n    },\n    {\n      \"column\": \"\\u4eba\\u53e3\\u6578_\\u5408\\u8a08\",\n      \"properties\": {\n        \"dtype\": \"number\",\n        \"std\": 59673,\n        \"min\": 113920,\n        \"max\": 285933,\n        \"samples\": [\n          265462\n        ],\n        \"num_unique_values\": 12,\n        \"semantic_type\": \"\",\n        \"description\": \"\"\n      }\n    },\n    {\n      \"column\": \"\\u4eba\\u53e3\\u6578_\\u7537\",\n      \"properties\": {\n        \"dtype\": \"number\",\n        \"std\": 27882,\n        \"min\": 55224,\n        \"max\": 132941,\n        \"samples\": [\n          127643\n        ],\n        \"num_unique_values\": 12,\n        \"semantic_type\": \"\",\n        \"description\": \"\"\n      }\n    },\n    {\n      \"column\": \"\\u4eba\\u53e3\\u6578_\\u5973\",\n      \"properties\": {\n        \"dtype\": \"number\",\n        \"std\": 31870,\n        \"min\": 58696,\n        \"max\": 152992,\n        \"samples\": [\n          137819\n        ],\n        \"num_unique_values\": 12,\n        \"semantic_type\": \"\",\n        \"description\": \"\"\n      }\n    }\n  ]\n}",
       "type": "dataframe",
       "variable_name": "data"
      },
      "text/html": [
       "\n",
       "  <div id=\"df-3643b633-98c3-4ad9-bfbb-36b170d62e64\" class=\"colab-df-container\">\n",
       "    <div>\n",
       "<style scoped>\n",
       "    .dataframe tbody tr th:only-of-type {\n",
       "        vertical-align: middle;\n",
       "    }\n",
       "\n",
       "    .dataframe tbody tr th {\n",
       "        vertical-align: top;\n",
       "    }\n",
       "\n",
       "    .dataframe thead th {\n",
       "        text-align: right;\n",
       "    }\n",
       "</style>\n",
       "<table border=\"1\" class=\"dataframe\">\n",
       "  <thead>\n",
       "    <tr style=\"text-align: right;\">\n",
       "      <th></th>\n",
       "      <th>年份</th>\n",
       "      <th>月份</th>\n",
       "      <th>行政區</th>\n",
       "      <th>里數_現有門牌</th>\n",
       "      <th>里數_戶籍登記</th>\n",
       "      <th>鄰數_現有門牌</th>\n",
       "      <th>鄰數_戶籍登記</th>\n",
       "      <th>戶數</th>\n",
       "      <th>人口數_合計</th>\n",
       "      <th>人口數_男</th>\n",
       "      <th>人口數_女</th>\n",
       "    </tr>\n",
       "  </thead>\n",
       "  <tbody>\n",
       "    <tr>\n",
       "      <th>0</th>\n",
       "      <td>112</td>\n",
       "      <td>1</td>\n",
       "      <td>松山區</td>\n",
       "      <td>33</td>\n",
       "      <td>33</td>\n",
       "      <td>765</td>\n",
       "      <td>762</td>\n",
       "      <td>79646</td>\n",
       "      <td>190772</td>\n",
       "      <td>89059</td>\n",
       "      <td>101713</td>\n",
       "    </tr>\n",
       "    <tr>\n",
       "      <th>1</th>\n",
       "      <td>112</td>\n",
       "      <td>1</td>\n",
       "      <td>信義區</td>\n",
       "      <td>41</td>\n",
       "      <td>41</td>\n",
       "      <td>913</td>\n",
       "      <td>910</td>\n",
       "      <td>88154</td>\n",
       "      <td>204414</td>\n",
       "      <td>96825</td>\n",
       "      <td>107589</td>\n",
       "    </tr>\n",
       "    <tr>\n",
       "      <th>2</th>\n",
       "      <td>112</td>\n",
       "      <td>1</td>\n",
       "      <td>大安區</td>\n",
       "      <td>53</td>\n",
       "      <td>53</td>\n",
       "      <td>1026</td>\n",
       "      <td>1021</td>\n",
       "      <td>118317</td>\n",
       "      <td>285933</td>\n",
       "      <td>132941</td>\n",
       "      <td>152992</td>\n",
       "    </tr>\n",
       "    <tr>\n",
       "      <th>3</th>\n",
       "      <td>112</td>\n",
       "      <td>1</td>\n",
       "      <td>中山區</td>\n",
       "      <td>42</td>\n",
       "      <td>42</td>\n",
       "      <td>871</td>\n",
       "      <td>869</td>\n",
       "      <td>99667</td>\n",
       "      <td>213393</td>\n",
       "      <td>98347</td>\n",
       "      <td>115046</td>\n",
       "    </tr>\n",
       "    <tr>\n",
       "      <th>4</th>\n",
       "      <td>112</td>\n",
       "      <td>1</td>\n",
       "      <td>中正區</td>\n",
       "      <td>31</td>\n",
       "      <td>31</td>\n",
       "      <td>583</td>\n",
       "      <td>581</td>\n",
       "      <td>64925</td>\n",
       "      <td>148505</td>\n",
       "      <td>70349</td>\n",
       "      <td>78156</td>\n",
       "    </tr>\n",
       "  </tbody>\n",
       "</table>\n",
       "</div>\n",
       "    <div class=\"colab-df-buttons\">\n",
       "\n",
       "  <div class=\"colab-df-container\">\n",
       "    <button class=\"colab-df-convert\" onclick=\"convertToInteractive('df-3643b633-98c3-4ad9-bfbb-36b170d62e64')\"\n",
       "            title=\"Convert this dataframe to an interactive table.\"\n",
       "            style=\"display:none;\">\n",
       "\n",
       "  <svg xmlns=\"http://www.w3.org/2000/svg\" height=\"24px\" viewBox=\"0 -960 960 960\">\n",
       "    <path d=\"M120-120v-720h720v720H120Zm60-500h600v-160H180v160Zm220 220h160v-160H400v160Zm0 220h160v-160H400v160ZM180-400h160v-160H180v160Zm440 0h160v-160H620v160ZM180-180h160v-160H180v160Zm440 0h160v-160H620v160Z\"/>\n",
       "  </svg>\n",
       "    </button>\n",
       "\n",
       "  <style>\n",
       "    .colab-df-container {\n",
       "      display:flex;\n",
       "      gap: 12px;\n",
       "    }\n",
       "\n",
       "    .colab-df-convert {\n",
       "      background-color: #E8F0FE;\n",
       "      border: none;\n",
       "      border-radius: 50%;\n",
       "      cursor: pointer;\n",
       "      display: none;\n",
       "      fill: #1967D2;\n",
       "      height: 32px;\n",
       "      padding: 0 0 0 0;\n",
       "      width: 32px;\n",
       "    }\n",
       "\n",
       "    .colab-df-convert:hover {\n",
       "      background-color: #E2EBFA;\n",
       "      box-shadow: 0px 1px 2px rgba(60, 64, 67, 0.3), 0px 1px 3px 1px rgba(60, 64, 67, 0.15);\n",
       "      fill: #174EA6;\n",
       "    }\n",
       "\n",
       "    .colab-df-buttons div {\n",
       "      margin-bottom: 4px;\n",
       "    }\n",
       "\n",
       "    [theme=dark] .colab-df-convert {\n",
       "      background-color: #3B4455;\n",
       "      fill: #D2E3FC;\n",
       "    }\n",
       "\n",
       "    [theme=dark] .colab-df-convert:hover {\n",
       "      background-color: #434B5C;\n",
       "      box-shadow: 0px 1px 3px 1px rgba(0, 0, 0, 0.15);\n",
       "      filter: drop-shadow(0px 1px 2px rgba(0, 0, 0, 0.3));\n",
       "      fill: #FFFFFF;\n",
       "    }\n",
       "  </style>\n",
       "\n",
       "    <script>\n",
       "      const buttonEl =\n",
       "        document.querySelector('#df-3643b633-98c3-4ad9-bfbb-36b170d62e64 button.colab-df-convert');\n",
       "      buttonEl.style.display =\n",
       "        google.colab.kernel.accessAllowed ? 'block' : 'none';\n",
       "\n",
       "      async function convertToInteractive(key) {\n",
       "        const element = document.querySelector('#df-3643b633-98c3-4ad9-bfbb-36b170d62e64');\n",
       "        const dataTable =\n",
       "          await google.colab.kernel.invokeFunction('convertToInteractive',\n",
       "                                                    [key], {});\n",
       "        if (!dataTable) return;\n",
       "\n",
       "        const docLinkHtml = 'Like what you see? Visit the ' +\n",
       "          '<a target=\"_blank\" href=https://colab.research.google.com/notebooks/data_table.ipynb>data table notebook</a>'\n",
       "          + ' to learn more about interactive tables.';\n",
       "        element.innerHTML = '';\n",
       "        dataTable['output_type'] = 'display_data';\n",
       "        await google.colab.output.renderOutput(dataTable, element);\n",
       "        const docLink = document.createElement('div');\n",
       "        docLink.innerHTML = docLinkHtml;\n",
       "        element.appendChild(docLink);\n",
       "      }\n",
       "    </script>\n",
       "  </div>\n",
       "\n",
       "\n",
       "<div id=\"df-b6fe1121-4f1e-43e6-a689-62aee01a9a7b\">\n",
       "  <button class=\"colab-df-quickchart\" onclick=\"quickchart('df-b6fe1121-4f1e-43e6-a689-62aee01a9a7b')\"\n",
       "            title=\"Suggest charts\"\n",
       "            style=\"display:none;\">\n",
       "\n",
       "<svg xmlns=\"http://www.w3.org/2000/svg\" height=\"24px\"viewBox=\"0 0 24 24\"\n",
       "     width=\"24px\">\n",
       "    <g>\n",
       "        <path d=\"M19 3H5c-1.1 0-2 .9-2 2v14c0 1.1.9 2 2 2h14c1.1 0 2-.9 2-2V5c0-1.1-.9-2-2-2zM9 17H7v-7h2v7zm4 0h-2V7h2v10zm4 0h-2v-4h2v4z\"/>\n",
       "    </g>\n",
       "</svg>\n",
       "  </button>\n",
       "\n",
       "<style>\n",
       "  .colab-df-quickchart {\n",
       "      --bg-color: #E8F0FE;\n",
       "      --fill-color: #1967D2;\n",
       "      --hover-bg-color: #E2EBFA;\n",
       "      --hover-fill-color: #174EA6;\n",
       "      --disabled-fill-color: #AAA;\n",
       "      --disabled-bg-color: #DDD;\n",
       "  }\n",
       "\n",
       "  [theme=dark] .colab-df-quickchart {\n",
       "      --bg-color: #3B4455;\n",
       "      --fill-color: #D2E3FC;\n",
       "      --hover-bg-color: #434B5C;\n",
       "      --hover-fill-color: #FFFFFF;\n",
       "      --disabled-bg-color: #3B4455;\n",
       "      --disabled-fill-color: #666;\n",
       "  }\n",
       "\n",
       "  .colab-df-quickchart {\n",
       "    background-color: var(--bg-color);\n",
       "    border: none;\n",
       "    border-radius: 50%;\n",
       "    cursor: pointer;\n",
       "    display: none;\n",
       "    fill: var(--fill-color);\n",
       "    height: 32px;\n",
       "    padding: 0;\n",
       "    width: 32px;\n",
       "  }\n",
       "\n",
       "  .colab-df-quickchart:hover {\n",
       "    background-color: var(--hover-bg-color);\n",
       "    box-shadow: 0 1px 2px rgba(60, 64, 67, 0.3), 0 1px 3px 1px rgba(60, 64, 67, 0.15);\n",
       "    fill: var(--button-hover-fill-color);\n",
       "  }\n",
       "\n",
       "  .colab-df-quickchart-complete:disabled,\n",
       "  .colab-df-quickchart-complete:disabled:hover {\n",
       "    background-color: var(--disabled-bg-color);\n",
       "    fill: var(--disabled-fill-color);\n",
       "    box-shadow: none;\n",
       "  }\n",
       "\n",
       "  .colab-df-spinner {\n",
       "    border: 2px solid var(--fill-color);\n",
       "    border-color: transparent;\n",
       "    border-bottom-color: var(--fill-color);\n",
       "    animation:\n",
       "      spin 1s steps(1) infinite;\n",
       "  }\n",
       "\n",
       "  @keyframes spin {\n",
       "    0% {\n",
       "      border-color: transparent;\n",
       "      border-bottom-color: var(--fill-color);\n",
       "      border-left-color: var(--fill-color);\n",
       "    }\n",
       "    20% {\n",
       "      border-color: transparent;\n",
       "      border-left-color: var(--fill-color);\n",
       "      border-top-color: var(--fill-color);\n",
       "    }\n",
       "    30% {\n",
       "      border-color: transparent;\n",
       "      border-left-color: var(--fill-color);\n",
       "      border-top-color: var(--fill-color);\n",
       "      border-right-color: var(--fill-color);\n",
       "    }\n",
       "    40% {\n",
       "      border-color: transparent;\n",
       "      border-right-color: var(--fill-color);\n",
       "      border-top-color: var(--fill-color);\n",
       "    }\n",
       "    60% {\n",
       "      border-color: transparent;\n",
       "      border-right-color: var(--fill-color);\n",
       "    }\n",
       "    80% {\n",
       "      border-color: transparent;\n",
       "      border-right-color: var(--fill-color);\n",
       "      border-bottom-color: var(--fill-color);\n",
       "    }\n",
       "    90% {\n",
       "      border-color: transparent;\n",
       "      border-bottom-color: var(--fill-color);\n",
       "    }\n",
       "  }\n",
       "</style>\n",
       "\n",
       "  <script>\n",
       "    async function quickchart(key) {\n",
       "      const quickchartButtonEl =\n",
       "        document.querySelector('#' + key + ' button');\n",
       "      quickchartButtonEl.disabled = true;  // To prevent multiple clicks.\n",
       "      quickchartButtonEl.classList.add('colab-df-spinner');\n",
       "      try {\n",
       "        const charts = await google.colab.kernel.invokeFunction(\n",
       "            'suggestCharts', [key], {});\n",
       "      } catch (error) {\n",
       "        console.error('Error during call to suggestCharts:', error);\n",
       "      }\n",
       "      quickchartButtonEl.classList.remove('colab-df-spinner');\n",
       "      quickchartButtonEl.classList.add('colab-df-quickchart-complete');\n",
       "    }\n",
       "    (() => {\n",
       "      let quickchartButtonEl =\n",
       "        document.querySelector('#df-b6fe1121-4f1e-43e6-a689-62aee01a9a7b button');\n",
       "      quickchartButtonEl.style.display =\n",
       "        google.colab.kernel.accessAllowed ? 'block' : 'none';\n",
       "    })();\n",
       "  </script>\n",
       "</div>\n",
       "    </div>\n",
       "  </div>\n"
      ],
      "text/plain": [
       "    年份  月份  行政區  里數_現有門牌  里數_戶籍登記  鄰數_現有門牌  鄰數_戶籍登記      戶數  人口數_合計   人口數_男  \\\n",
       "0  112   1  松山區       33       33      765      762   79646  190772   89059   \n",
       "1  112   1  信義區       41       41      913      910   88154  204414   96825   \n",
       "2  112   1  大安區       53       53     1026     1021  118317  285933  132941   \n",
       "3  112   1  中山區       42       42      871      869   99667  213393   98347   \n",
       "4  112   1  中正區       31       31      583      581   64925  148505   70349   \n",
       "\n",
       "    人口數_女  \n",
       "0  101713  \n",
       "1  107589  \n",
       "2  152992  \n",
       "3  115046  \n",
       "4   78156  "
      ]
     },
     "execution_count": 7,
     "metadata": {},
     "output_type": "execute_result"
    }
   ],
   "source": [
    "data = pd.read_csv(\"/content/population.csv\")\n",
    "data.head()  # 查看前幾筆資料，可以發現資料尚未依照人口總數排序"
   ]
  },
  {
   "cell_type": "markdown",
   "metadata": {
    "id": "mykhVdl0oAok"
   },
   "source": [
    "任意點選一個推薦的畫圖，可以發現自動生成的繪圖**<font color=\"purple\">中文顯示異常</font>**，如下"
   ]
  },
  {
   "cell_type": "code",
   "execution_count": 8,
   "metadata": {
    "colab": {
     "base_uri": "https://localhost:8080/",
     "height": 680
    },
    "executionInfo": {
     "elapsed": 6,
     "status": "ok",
     "timestamp": 1708067578478,
     "user": {
      "displayName": "李友棣",
      "userId": "00859472704707161873"
     },
     "user_tz": -480
    },
    "id": "bE1K1jyPnwHf",
    "outputId": "be8ccf24-1f79-48e7-f808-43e7760c04f6"
   },
   "outputs": [
    {
     "name": "stderr",
     "output_type": "stream",
     "text": [
      "/usr/local/lib/python3.10/dist-packages/IPython/core/pylabtools.py:151: UserWarning: Glyph 37324 (\\N{CJK UNIFIED IDEOGRAPH-91CC}) missing from current font.\n",
      "  fig.canvas.print_figure(bytes_io, **kw)\n",
      "/usr/local/lib/python3.10/dist-packages/IPython/core/pylabtools.py:151: UserWarning: Glyph 25976 (\\N{CJK UNIFIED IDEOGRAPH-6578}) missing from current font.\n",
      "  fig.canvas.print_figure(bytes_io, **kw)\n",
      "/usr/local/lib/python3.10/dist-packages/IPython/core/pylabtools.py:151: UserWarning: Glyph 29694 (\\N{CJK UNIFIED IDEOGRAPH-73FE}) missing from current font.\n",
      "  fig.canvas.print_figure(bytes_io, **kw)\n",
      "/usr/local/lib/python3.10/dist-packages/IPython/core/pylabtools.py:151: UserWarning: Glyph 26377 (\\N{CJK UNIFIED IDEOGRAPH-6709}) missing from current font.\n",
      "  fig.canvas.print_figure(bytes_io, **kw)\n",
      "/usr/local/lib/python3.10/dist-packages/IPython/core/pylabtools.py:151: UserWarning: Glyph 38272 (\\N{CJK UNIFIED IDEOGRAPH-9580}) missing from current font.\n",
      "  fig.canvas.print_figure(bytes_io, **kw)\n",
      "/usr/local/lib/python3.10/dist-packages/IPython/core/pylabtools.py:151: UserWarning: Glyph 29260 (\\N{CJK UNIFIED IDEOGRAPH-724C}) missing from current font.\n",
      "  fig.canvas.print_figure(bytes_io, **kw)\n"
     ]
    },
    {
     "data": {
      "image/png": "[encoded data removed]",
      "text/plain": [
       "<Figure size 640x480 with 1 Axes>"
      ]
     },
     "metadata": {},
     "output_type": "display_data"
    }
   ],
   "source": [
    "# @title 里數_現有門牌\n",
    "\n",
    "from matplotlib import pyplot as plt\n",
    "data['里數_現有門牌'].plot(kind='hist', bins=20, title='里數_現有門牌')\n",
    "plt.gca().spines[['top', 'right',]].set_visible(False)\n",
    "\n",
    "plt.show()"
   ]
  },
  {
   "cell_type": "markdown",
   "metadata": {
    "id": "dzAUsZyyoTUO"
   },
   "source": [
    " ##### **<font color=\"darkblue\">4. Colab中文顯示異常問題 </font>**\n",
    "\n",
    "- matplotlib繪圖要顯示中文需要修改相關設定\n",
    "\n",
    "- 初學Python的時候最常遇到的就是中文亂碼的問題，解決辦法**<font color=\"darkred\">[下載字型並加掛]</font>**\n",
    "\n",
    "- https://colab.research.google.com/github/willismax/matplotlib_show_chinese_in_colab/blob/master/matplotlib_show_chinese_in_colab.ipynb#scrollTo=RfR0uymWF3cB\n",
    "\n"
   ]
  },
  {
   "cell_type": "code",
   "execution_count": 9,
   "metadata": {
    "colab": {
     "base_uri": "https://localhost:8080/",
     "height": 0
    },
    "executionInfo": {
     "elapsed": 4446,
     "status": "ok",
     "timestamp": 1708067582919,
     "user": {
      "displayName": "李友棣",
      "userId": "00859472704707161873"
     },
     "user_tz": -480
    },
    "id": "GCr8pYpGoS5w",
    "outputId": "9a6b2bc5-d6fa-41a9-ee00-b7b6e516f27e"
   },
   "outputs": [
    {
     "name": "stdout",
     "output_type": "stream",
     "text": [
      "--2024-02-16 07:12:58--  https://drive.google.com/uc?id=1eGAsTN1HBpJAkeVM57_C7ccp7hbgSz3_\n",
      "Resolving drive.google.com (drive.google.com)... 74.125.141.100, 74.125.141.113, 74.125.141.138, ...\n",
      "Connecting to drive.google.com (drive.google.com)|74.125.141.100|:443... connected.\n",
      "HTTP request sent, awaiting response... 303 See Other\n",
      "Location: https://drive.usercontent.google.com/download?id=1eGAsTN1HBpJAkeVM57_C7ccp7hbgSz3_ [following]\n",
      "--2024-02-16 07:12:58--  https://drive.usercontent.google.com/download?id=1eGAsTN1HBpJAkeVM57_C7ccp7hbgSz3_\n",
      "Resolving drive.usercontent.google.com (drive.usercontent.google.com)... 108.177.12.132, 2607:f8b0:400c:c08::84\n",
      "Connecting to drive.usercontent.google.com (drive.usercontent.google.com)|108.177.12.132|:443... connected.\n",
      "HTTP request sent, awaiting response... 200 OK\n",
      "Length: 20659344 (20M) [application/octet-stream]\n",
      "Saving to: ‘TaipeiSansTCBeta-Regular.ttf’\n",
      "\n",
      "TaipeiSansTCBeta-Re 100%[===================>]  19.70M  85.2MB/s    in 0.2s    \n",
      "\n",
      "2024-02-16 07:13:02 (85.2 MB/s) - ‘TaipeiSansTCBeta-Regular.ttf’ saved [20659344/20659344]\n",
      "\n"
     ]
    }
   ],
   "source": [
    "# Colab 進行matplotlib繪圖時顯示繁體中文\n",
    "# 下載台北思源黑體並命名taipei_sans_tc_beta.ttf，移至指定路徑\n",
    "!wget -O TaipeiSansTCBeta-Regular.ttf https://drive.google.com/uc?id=1eGAsTN1HBpJAkeVM57_C7ccp7hbgSz3_&export=download"
   ]
  },
  {
   "cell_type": "code",
   "execution_count": 10,
   "metadata": {
    "executionInfo": {
     "elapsed": 11,
     "status": "ok",
     "timestamp": 1708067582919,
     "user": {
      "displayName": "李友棣",
      "userId": "00859472704707161873"
     },
     "user_tz": -480
    },
    "id": "OqBgRbMtoje2"
   },
   "outputs": [],
   "source": [
    "import matplotlib as mpl\n",
    "import matplotlib.pyplot as plt\n",
    "from matplotlib.font_manager import fontManager\n",
    "\n",
    "fontManager.addfont('TaipeiSansTCBeta-Regular.ttf')\n",
    "mpl.rc('font', family='Taipei Sans TC Beta')"
   ]
  },
  {
   "cell_type": "code",
   "execution_count": 11,
   "metadata": {
    "colab": {
     "base_uri": "https://localhost:8080/",
     "height": 452
    },
    "executionInfo": {
     "elapsed": 1272,
     "status": "ok",
     "timestamp": 1708067584181,
     "user": {
      "displayName": "李友棣",
      "userId": "00859472704707161873"
     },
     "user_tz": -480
    },
    "id": "djRsBEJvou9i",
    "outputId": "34f97eac-5c0c-4a22-c520-daa87bdddc03"
   },
   "outputs": [
    {
     "data": {
      "image/png": "[encoded data removed]",
      "text/plain": [
       "<Figure size 640x480 with 1 Axes>"
      ]
     },
     "metadata": {},
     "output_type": "display_data"
    }
   ],
   "source": [
    "# 正確的中文字體顯示\n",
    "\n",
    "data['里數_現有門牌'].plot(kind='hist', bins=20, title='里數_現有門牌')\n",
    "plt.gca().spines[['top', 'right',]].set_visible(False)\n",
    "\n",
    "plt.show()"
   ]
  },
  {
   "cell_type": "markdown",
   "metadata": {
    "id": "TOPVD56ZbLoF"
   },
   "source": [
    " ##### **<font color=\"darkblue\">5. Colab中的Magic Command**\n",
    "\n",
    "\n",
    "\n",
    "- %matplotlib inline #用於在Notebook中顯示Matplotlib圖形\n",
    "\n",
    "- %magic # 介紹魔術指令\n",
    "\n",
    "- %timeit # 用於計算程式執行時間\n",
    "\n",
    "- %run # 執行.py 檔案\n"
   ]
  },
  {
   "cell_type": "code",
   "execution_count": 12,
   "metadata": {
    "executionInfo": {
     "elapsed": 3,
     "status": "ok",
     "timestamp": 1708067584181,
     "user": {
      "displayName": "李友棣",
      "userId": "00859472704707161873"
     },
     "user_tz": -480
    },
    "id": "OUz4Dl9zK2Od"
   },
   "outputs": [],
   "source": [
    "%magic # 介紹魔術指令"
   ]
  },
  {
   "cell_type": "code",
   "execution_count": 13,
   "metadata": {
    "colab": {
     "base_uri": "https://localhost:8080/",
     "height": 0
    },
    "executionInfo": {
     "elapsed": 5862,
     "status": "ok",
     "timestamp": 1708067590041,
     "user": {
      "displayName": "李友棣",
      "userId": "00859472704707161873"
     },
     "user_tz": -480
    },
    "id": "zFZFNtO7HZNI",
    "outputId": "c38e93bf-9932-41b7-bf64-362277f75eca"
   },
   "outputs": [
    {
     "name": "stdout",
     "output_type": "stream",
     "text": [
      "679 µs ± 128 µs per loop (mean ± std. dev. of 7 runs, 1000 loops each)\n"
     ]
    }
   ],
   "source": [
    "# 可以計算出程式執行時間，可以比較不同演算法的執行速度\n",
    "\n",
    "%timeit L = [n ** 2 for n in range(1000)]"
   ]
  },
  {
   "cell_type": "code",
   "execution_count": 14,
   "metadata": {
    "colab": {
     "base_uri": "https://localhost:8080/",
     "height": 0
    },
    "executionInfo": {
     "elapsed": 6,
     "status": "ok",
     "timestamp": 1708067590042,
     "user": {
      "displayName": "李友棣",
      "userId": "00859472704707161873"
     },
     "user_tz": -480
    },
    "id": "E1ah6asJjN7A",
    "outputId": "7fe6f229-bef8-4155-830c-a1de6b971d97"
   },
   "outputs": [
    {
     "name": "stdout",
     "output_type": "stream",
     "text": [
      "程式碼已成功保存到 /content/test.py\n"
     ]
    }
   ],
   "source": [
    "# 寫出.py檔案\n",
    "with open('/content/test.py', 'w') as f:\n",
    "    f.write('''def square(x):\n",
    "    \"\"\"square a number\"\"\"\n",
    "    return x ** 2\n",
    "\n",
    "for N in range(1, 4):\n",
    "    print(f\"{N} squared is {square(N)}\")''')\n",
    "\n",
    "print(\"程式碼已成功保存到 /content/test.py\")"
   ]
  },
  {
   "cell_type": "code",
   "execution_count": 15,
   "metadata": {
    "colab": {
     "base_uri": "https://localhost:8080/",
     "height": 86
    },
    "executionInfo": {
     "elapsed": 5,
     "status": "ok",
     "timestamp": 1708067590042,
     "user": {
      "displayName": "李友棣",
      "userId": "00859472704707161873"
     },
     "user_tz": -480
    },
    "id": "Sb9zIcVuI5yI",
    "outputId": "7ead7a40-b53b-459e-beaf-d6c8576a6967"
   },
   "outputs": [
    {
     "name": "stdout",
     "output_type": "stream",
     "text": [
      "1 squared is 1\n",
      "2 squared is 4\n",
      "3 squared is 9\n"
     ]
    },
    {
     "data": {
      "text/plain": [
       "<Figure size 640x480 with 0 Axes>"
      ]
     },
     "metadata": {},
     "output_type": "display_data"
    }
   ],
   "source": [
    "%run /content/test.py"
   ]
  },
  {
   "cell_type": "code",
   "execution_count": 15,
   "metadata": {
    "executionInfo": {
     "elapsed": 4,
     "status": "ok",
     "timestamp": 1708067590042,
     "user": {
      "displayName": "李友棣",
      "userId": "00859472704707161873"
     },
     "user_tz": -480
    },
    "id": "rFH6RszdG-T0"
   },
   "outputs": [],
   "source": []
  },
  {
   "cell_type": "markdown",
   "metadata": {
    "id": "jpnod_pgq6G6"
   },
   "source": [
    "\n",
    "#### **<font color=\"green\">Colab進階問題:</font>**\n",
    "> **查詢如何解決以下問題?**\n",
    "\n",
    "\n",
    "1. 如何讓其他人下載你雲端硬碟中的檔案?\n",
    "\n",
    "\n",
    "2. 如何使用免費gpu?\n",
    "\n",
    "<center><img src=\"https://yenlungblog.files.wordpress.com/2019/12/e688aae59c96-2019-12-23-e4b88be58d887.52.53.png?w=1024\" width=400></center>\n",
    "\n",
    "\n",
    "\n"
   ]
  },
  {
   "cell_type": "markdown",
   "metadata": {
    "id": "pDE4S6AbtvNZ"
   },
   "source": [
    "\n",
    "3. 安裝和使用套件\n",
    "- Colab預先安裝了許多常用的Python套件，如NumPy、Pandas、Matplotlib等，使得開發更加便捷。\n",
    "- 但仍然有許多套件較少用，需要再每次從新啟動時自己安裝載入。\n",
    "- 以下提供安裝方法\n",
    "\n",
    "    `pip install 套件名稱`\n",
    "\n",
    "    -https://colab.research.google.com/github/mehak-sachdeva/ASU-GIS-322-Fall-19/blob/master/notebooks/4_2_Map_Projections.ipynb#scrollTo=563dsmvws9o_"
   ]
  },
  {
   "cell_type": "code",
   "execution_count": 16,
   "metadata": {
    "colab": {
     "base_uri": "https://localhost:8080/",
     "height": 0
    },
    "executionInfo": {
     "elapsed": 12307,
     "status": "ok",
     "timestamp": 1708067602345,
     "user": {
      "displayName": "李友棣",
      "userId": "00859472704707161873"
     },
     "user_tz": -480
    },
    "id": "VxK_x8OWtwRR",
    "outputId": "8e3c6275-20ae-4ab8-b2bf-8e3076562b3d"
   },
   "outputs": [
    {
     "name": "stdout",
     "output_type": "stream",
     "text": [
      "Requirement already satisfied: geopandas in /usr/local/lib/python3.10/dist-packages (0.13.2)\n",
      "Requirement already satisfied: fiona>=1.8.19 in /usr/local/lib/python3.10/dist-packages (from geopandas) (1.9.5)\n",
      "Requirement already satisfied: packaging in /usr/local/lib/python3.10/dist-packages (from geopandas) (23.2)\n",
      "Requirement already satisfied: pandas>=1.1.0 in /usr/local/lib/python3.10/dist-packages (from geopandas) (1.5.3)\n",
      "Requirement already satisfied: pyproj>=3.0.1 in /usr/local/lib/python3.10/dist-packages (from geopandas) (3.6.1)\n",
      "Requirement already satisfied: shapely>=1.7.1 in /usr/local/lib/python3.10/dist-packages (from geopandas) (2.0.2)\n",
      "Requirement already satisfied: attrs>=19.2.0 in /usr/local/lib/python3.10/dist-packages (from fiona>=1.8.19->geopandas) (23.2.0)\n",
      "Requirement already satisfied: certifi in /usr/local/lib/python3.10/dist-packages (from fiona>=1.8.19->geopandas) (2024.2.2)\n",
      "Requirement already satisfied: click~=8.0 in /usr/local/lib/python3.10/dist-packages (from fiona>=1.8.19->geopandas) (8.1.7)\n",
      "Requirement already satisfied: click-plugins>=1.0 in /usr/local/lib/python3.10/dist-packages (from fiona>=1.8.19->geopandas) (1.1.1)\n",
      "Requirement already satisfied: cligj>=0.5 in /usr/local/lib/python3.10/dist-packages (from fiona>=1.8.19->geopandas) (0.7.2)\n",
      "Requirement already satisfied: six in /usr/local/lib/python3.10/dist-packages (from fiona>=1.8.19->geopandas) (1.16.0)\n",
      "Requirement already satisfied: setuptools in /usr/local/lib/python3.10/dist-packages (from fiona>=1.8.19->geopandas) (67.7.2)\n",
      "Requirement already satisfied: python-dateutil>=2.8.1 in /usr/local/lib/python3.10/dist-packages (from pandas>=1.1.0->geopandas) (2.8.2)\n",
      "Requirement already satisfied: pytz>=2020.1 in /usr/local/lib/python3.10/dist-packages (from pandas>=1.1.0->geopandas) (2023.4)\n",
      "Requirement already satisfied: numpy>=1.21.0 in /usr/local/lib/python3.10/dist-packages (from pandas>=1.1.0->geopandas) (1.25.2)\n"
     ]
    }
   ],
   "source": [
    "!pip install geopandas  # 安裝 geopeandas\n",
    "import geopandas"
   ]
  },
  {
   "cell_type": "code",
   "execution_count": 17,
   "metadata": {
    "colab": {
     "base_uri": "https://localhost:8080/",
     "height": 377
    },
    "executionInfo": {
     "elapsed": 1087,
     "status": "ok",
     "timestamp": 1708067603429,
     "user": {
      "displayName": "李友棣",
      "userId": "00859472704707161873"
     },
     "user_tz": -480
    },
    "id": "JlAbG0WCvqtT",
    "outputId": "d81d9c4b-0ab3-43c2-d233-219f0a30a855"
   },
   "outputs": [
    {
     "name": "stderr",
     "output_type": "stream",
     "text": [
      "<ipython-input-17-4be54d4150a7>:2: FutureWarning: The geopandas.dataset module is deprecated and will be removed in GeoPandas 1.0. You can get the original 'naturalearth_lowres' data from https://www.naturalearthdata.com/downloads/110m-cultural-vectors/.\n",
      "  world = geopandas.read_file(geopandas.datasets.get_path('naturalearth_lowres'))\n"
     ]
    },
    {
     "data": {
      "image/png": "[encoded data removed]",
      "text/plain": [
       "<Figure size 640x480 with 1 Axes>"
      ]
     },
     "metadata": {},
     "output_type": "display_data"
    }
   ],
   "source": [
    "# load example data\n",
    "world = geopandas.read_file(geopandas.datasets.get_path('naturalearth_lowres'))\n",
    "\n",
    "# Visualize\n",
    "ax = world.plot()\n",
    "ax.set_title(\"WGS84 (lat/lon)\");"
   ]
  },
  {
   "cell_type": "markdown",
   "metadata": {
    "id": "mVo95ohQtuEk"
   },
   "source": [
    "\n",
    "4. colab 插入影片\n",
    "- https://www.appsloveworld.com/google-colaboratory/2/playing-videos-on-google-colab\n"
   ]
  },
  {
   "cell_type": "code",
   "execution_count": 18,
   "metadata": {
    "colab": {
     "base_uri": "https://localhost:8080/",
     "height": 321
    },
    "executionInfo": {
     "elapsed": 6,
     "status": "ok",
     "timestamp": 1708067603429,
     "user": {
      "displayName": "李友棣",
      "userId": "00859472704707161873"
     },
     "user_tz": -480
    },
    "id": "5xsJxdSRvGdI",
    "outputId": "e0688ea2-e930-49a2-ad92-2e06286ff3e1"
   },
   "outputs": [
    {
     "data": {
      "image/jpeg": "[encoded data removed]",
      "text/html": [
       "\n",
       "        <iframe\n",
       "            width=\"400\"\n",
       "            height=\"300\"\n",
       "            src=\"https://www.youtube.com/embed/inN8seMm7UI\"\n",
       "            frameborder=\"0\"\n",
       "            allowfullscreen\n",
       "            \n",
       "        ></iframe>\n",
       "        "
      ],
      "text/plain": [
       "<IPython.lib.display.YouTubeVideo at 0x7aa744d3d660>"
      ]
     },
     "execution_count": 18,
     "metadata": {},
     "output_type": "execute_result"
    }
   ],
   "source": [
    "# https://www.youtube.com/watch?v=inN8seMm7UI\n",
    "\n",
    "from IPython.display import YouTubeVideo\n",
    "YouTubeVideo('inN8seMm7UI')"
   ]
  },
  {
   "cell_type": "markdown",
   "metadata": {
    "id": "iklQVDFvHXAO"
   },
   "source": [
    "Reference :\n",
    "- https://www.cc.ntu.edu.tw/chinese/epaper/0052/20200320_5207.html\n",
    "- https://www.youtube.com/watch?v=rNgswRZ2C1Y\n",
    "\n",
    "Common use :\n",
    "- Google Drive Direct Link Generator https://sites.google.com/site/gdocs2direct/\n",
    "- Welcome to colab https://colab.research.google.com/?utm_source=scs-index#scrollTo=-Rh3-Vt9Nev9\n",
    "\n",
    "made by 110207401"
   ]
  },
  {
   "cell_type": "code",
   "execution_count": 18,
   "metadata": {
    "executionInfo": {
     "elapsed": 5,
     "status": "ok",
     "timestamp": 1708067603429,
     "user": {
      "displayName": "李友棣",
      "userId": "00859472704707161873"
     },
     "user_tz": -480
    },
    "id": "QxTc5tqMHYsG"
   },
   "outputs": [],
   "source": []
  }
 ],
 "metadata": {
  "colab": {
   "authorship_tag": "ABX9TyNclAY6/PwqYiADisqIwPZx",
   "mount_file_id": "1D2UXJg9e0352MxexShU-GBcfIoA2UWB9",
   "provenance": []
  },
  "kernelspec": {
   "display_name": "Python 3 (ipykernel)",
   "language": "python",
   "name": "python3"
  },
  "language_info": {
   "codemirror_mode": {
    "name": "ipython",
    "version": 3
   },
   "file_extension": ".py",
   "mimetype": "text/x-python",
   "name": "python",
   "nbconvert_exporter": "python",
   "pygments_lexer": "ipython3",
   "version": "3.9.7"
  },
  "widgets": {
   "application/vnd.jupyter.widget-state+json": {
    "0ee609b6727648ae944b9d1e9779e1cb": {
     "model_module": "@jupyter-widgets/base",
     "model_module_version": "1.2.0",
     "model_name": "LayoutModel",
     "state": {
      "_model_module": "@jupyter-widgets/base",
      "_model_module_version": "1.2.0",
      "_model_name": "LayoutModel",
      "_view_count": null,
      "_view_module": "@jupyter-widgets/base",
      "_view_module_version": "1.2.0",
      "_view_name": "LayoutView",
      "align_content": null,
      "align_items": null,
      "align_self": null,
      "border": null,
      "bottom": null,
      "display": null,
      "flex": null,
      "flex_flow": null,
      "grid_area": null,
      "grid_auto_columns": null,
      "grid_auto_flow": null,
      "grid_auto_rows": null,
      "grid_column": null,
      "grid_gap": null,
      "grid_row": null,
      "grid_template_areas": null,
      "grid_template_columns": null,
      "grid_template_rows": null,
      "height": null,
      "justify_content": null,
      "justify_items": null,
      "left": null,
      "margin": null,
      "max_height": null,
      "max_width": null,
      "min_height": null,
      "min_width": null,
      "object_fit": null,
      "object_position": null,
      "order": null,
      "overflow": null,
      "overflow_x": null,
      "overflow_y": null,
      "padding": null,
      "right": null,
      "top": null,
      "visibility": null,
      "width": null
     }
    },
    "1a736e7de4534f28aeb4fc7ee0dd2e06": {
     "model_module": "@jupyter-widgets/controls",
     "model_module_version": "1.5.0",
     "model_name": "VBoxModel",
     "state": {
      "_dom_classes": [
       "widget-interact"
      ],
      "_model_module": "@jupyter-widgets/controls",
      "_model_module_version": "1.5.0",
      "_model_name": "VBoxModel",
      "_view_count": null,
      "_view_module": "@jupyter-widgets/controls",
      "_view_module_version": "1.5.0",
      "_view_name": "VBoxView",
      "box_style": "",
      "children": [
       "IPY_MODEL_b18c2f5d77da40e197209a009cd1d2f3",
       "IPY_MODEL_612aada1e6114b98b4a0153bd46d6b86",
       "IPY_MODEL_1bac129fdb55459795229353300bb5c9"
      ],
      "layout": "IPY_MODEL_c5a9aa2eeb2443578d347d849fff03ac"
     }
    },
    "1bac129fdb55459795229353300bb5c9": {
     "model_module": "@jupyter-widgets/output",
     "model_module_version": "1.0.0",
     "model_name": "OutputModel",
     "state": {
      "_dom_classes": [],
      "_model_module": "@jupyter-widgets/output",
      "_model_module_version": "1.0.0",
      "_model_name": "OutputModel",
      "_view_count": null,
      "_view_module": "@jupyter-widgets/output",
      "_view_module_version": "1.0.0",
      "_view_name": "OutputView",
      "layout": "IPY_MODEL_d34e3daecab94551a4bdc740a68a1169",
      "msg_id": "",
      "outputs": [
       {
        "data": {
         "image/png": "iVBORw0KGgoAAAANSUhEUgAAAQAAAAEACAYAAABccqhmAACEAklEQVR4nOz9aXvbxrIFjK6q7gZASp4y7LPve///T7vv3klsS5ww9FB1P3Q3AFKyk5zjWFTCeoKApCiZA9aquQq4yU1ucpOb3OQmN7nJTW5yk5vc5CY3uclNbnKTm9zkJje5yU1ucpOb3OQmN7nJTW5yk5vc5CavV+ilX8BNbvJnxRgDZq4H1dvGmPk5KSWISD203k4pveArvz6xL/0CbnKTLwkRgYgIWVERETEAY4xhY4xhZiYiw0WMMVWhKQAlImEmSYkSESUiiKomAKKqUp+nqi/zBq9AbgRwk6sQZgYyyCvgDTMbAJaILACrqg6AIyKHfO2acnA51hatAhCAEhHFfHBwjr2qBgABQFTVqKoxPxeqqvpPshJuBHCTFxFjDDLWs2YvYDcF7A5AIyINEbWq2gBoyuP1sMjkUAmgEkeVQgBI5aig90Q0EtGkqvU8AQiqGogoiUjCP8QyuBHATb6brABPzGyIyIBgCeSYuQHQrg8iqrcbEBpoJoFMEvV41gLILgBIFCoAYjl8OSYAAxENRDip0qCqQyUDZvbI1kHSLN/rI/ruciOAm/xlwsxrP56LtrZE5IwxjohaEWkBdAC6ou07XBABQC0AB+hiBRAsqLgARFyOxQIgUpAKFAkLAQRk8E8ARgA9QCdAD0R0AnAC0BPRUKwCT0QBOWbwPT6y7y43ArjJN5Vi2hMAMsZU0FffvSGiNqXUEVEHQj40E0A52vlcLABiaoio0UwazljrjDXWGGuJOYcDjaE5CKhAilFTSiKpSIyBUgoq4lV1BDBCtQdwIqIDgD2ge4AOAI6FEEYAY3UN/o6mwI0AbvKthIpwDdoVwFfTfkNEHUAbItoA6ADKB6Ej5o6IOiJqQdQRc2uAloxpyXDDxjQgaoiNs85Z46xlY2yBP3PODBABUEBTjCopicQoKYQYQ4jRBy8peolpUpFBUxpU9agiR0B3UHok0sf8OtEAOKoqE9Goqh7ZivhbkcCNAG7yv5ZVxP450HdEM9jLQRsQNgAVwHNHzBswd8bajq1piU3H1rRsbKtMLVvbkuGWjHEgbsiws845Y61law0zGzZmJgAAgCoWAkgphRBT8DFOPiTvpxTCJDGOEkIvMZ0kxoNKequi9yqyKa6IK++nxhfKn9a/FQncCOAmf1oqKC7M+xq4q6DfliODn2hDxBsyvCGDzjZuw9Z2IOrI2s42TcfOdmxtS9Z0bG0L4pasacmYhoxpwOyI2ZWzJWYjBKMgTtlZJ0AJCgWzQlWgIpSaaGIbKcTgUvJp8mPyfkzT1Iv3p+T9IYW41xjvJKWNiHRYMg2sqrQKLyiAv407cCOAm/yu1Og9VpoeF6CHYqPAlohm4BPxlpg3xBn4bO2GrduAaePatuOm6ciYjp3tTNt0xrmOrG3JZAIQQgW/I2OcEhlizmWAxExMBCIgBxrLq9Va3pMPSdAkqimJhiiQFGX0IU3jFIdxSNPU8zgdeZp2yft7CmEroq2qWBUxqkrMjIJ3JSItAcL0d+CAGwHc5FlZ5+ixys9X874c2/mgeqYNEW2JzdY4t2FntxX4pmk2pm02MKZzXdeZ1nUwZkPOdmxdx85mwFvTkLFOCJaMMcSGyRjKB4PYAMwgJhAxQDhLAGTwA8gGADQl0hiNxGjEe5ta39DUdurcBr29U+J7IdyR6h1UNyzaaIpGVBkAqSqISJGzAYmIpNx+9QxwI4CbzLKO4K9TdqtAXiciM+hVtYJ+S6AtMW+Na7ZszYat27qu3ZqmycBv2o3p8lkNd9y4DTvXquGOnW3IWsfOWTLGkjFM1rI1hshasDEga0DGgNggk0A+Fu2fjYG1BaBSLABJ0JggISD5QDJOJo4Dc9uY2DSOrW3IcEPENfPgJMAAIIlRiSgDH4ggiqWcuBYXvWq5EcBN1qDnlaZ3JRrersz6s4OI78C0JeYNG7PNoO+2pnFb07abZrPZmrbd5KPZcNNsuGk6Ndxy4xpyzsGwJWsNO8tkLbO1YGtB9WzsDH42Ffwmg3+2ACr4i1xYAEgJUghAvEeaJthhpNh1JjQNszUGhg2IDKBGoQwoqYoacsIpRVUN9UCuGowiklRVXnPp8I0A/qFSTOazYB4zO2TAd0S0mTX82UFbEN0R05aN2ZKxW3Z2a5zbctNu27vtxrTt1nTt1rbthtt2w03TmbZpuWkabhqnhi05a9g5ZueIGwt2DmzdAn5nM+gvSaBofjIM1NqfJwSAQgKzCwBNCRJiJoBxQhoGxK6DaVpiZy2xKVlMkAJIgEI1IaaQVDwklxEDmFTVE5Enolpd+GrlRgD/ILkI5pnSVFNB315E73NAT7GY+UR3zLzN2t5u2bktO7c1bbu1bbs1Xbc1Xbs1GfidaduW2wx607aWG2e4aZgbR9y4DPrGwTgHdpUEMgHMpr+xWdubXOyXtX7JPj7bzJ7dctLVfdGFCEKA+IA0bGC6DqZtwM6AiE0uN1aoKkhVIBKUwkhEo6Q4quiAXBg0lj6CUJqJXq0VcCOAv7lcluJ+MZj3rLbHFkxbZnNHhrds7FaZttw01cy/K8DfcD53pm07btvGtK0zbWO5bQ23DXPTkGkbcNNk0JfzJfDZMLAy8UG5xF9pSb7/XuSN1s8hAgwVq8EAxoKtm60MrkRDBKgaiDQqohBJmlJQYFRQD5WTqPQAeuSS4YGIarmwfLtv7PvKjQD+hrIGPec+W1u0fVP8+g45P78E8whbArZKtCVgS8xbYr5jY7Kmt3ZrmmYLazPwu3bLbbsxXbsxbZdB37WOu86ZtjGmbZnblkzbgtsGpm0vgO+y5jX1yCY9inbXWbvP1b2re18Xna2DFVUUVwFESwCRGZY4/5OqQBJAktGUGqQkGmMQ1VGBo6R0hMgRiiMRHZFLiHsAY3EFXmVG4EYAfxNZ99MTkSGQBZ0F8zpVPTPxsRTq3AG0BfOGme9yNN/OZr5t261p2q3p2jtYuwZ9a7q24a61pm0Nd50xbUuma2HaYl63Ldaan2z16zMAwQQqgNVn4P1/Q9ViC8wEQpQtC2ezgQGAoIBIzhLkw2iMjYSwTUneiOpbDvGtpPhWVN5C8RbAHsAR2SLwyFmBVyc3AnjFsgb9qp8+N93kZpqq6TPwVbdaA3nQOahHOZK/tU2zJZsDeqZp8tG2W1v9+q7dwNo2a/nWFeCz6To2XQvuOpi2g+1aVM3PTQ7ukVtAT0zQVdROvwLz//vMuvO/oOUhAoGsAdSBVWBSgvMBaZqQpolk8jaOY6shbpHSG7bhDYXwBtBy4J6I9qX0eSzNQv/nV/u95UYAr0zWufq5pz5H8OcafBGpmv6iJDeb97lohzPwjdkS85ZdTeE1W9Nm4JejM13bmrZtuG0dnLXctca0HZmuy9q+68pRgD9r+xLQK0G8isWnMPn+oym1JEHIWpAqkBJ0u4Edt7DjiDSM7MbRIsQupXQnPtynEO5F5B5APbaq2hKRLQHBV8cANwJ4BfJMi61FSduVctxq3m8AbAm5LBeXJMC0JVqBPpv4G7b2roB+Y9p2yxn0nWmaHMzrOsttY0zXMj8BfQfTLsAnV/P3Zjbx8QVt/9fA/k/81RwaBawFNQ3MpoPdbmH7AXG7gek3RqfQIMRtmqYtT+aOiO5EdAvoHYC7kjK1uIg9vha5EcCVygXoZ01fB2kQUSe5c20DoObsVxqfNkTYlvr8DTHniH7J2/PKzOemKcU6OYLPbeNM1zpuW5NN/JZMWzT8DP7s53PbgF0G/qztyyAQfQaLdDa052vyV1sFuWcIRLm4yDlwc0FsXcex7y1Z24LNVoFNEtlISltgJtwOOavCyCPIXpXcCOCKZF1/XybePtH0zDxH8Fettvm26hZEGyXa5kYc2nDV9NZuyJicwmubLTdua5p2Y9qmpaZpTU7dlbRdy6Zr2bRt9ucr4Iu25xrUc4uZf+nb/74qfI4IvrcrUJQ2UbZYmkIC7dqqaY02U2OapiNrO2LugLQeYFI7B/lr/9K1yo0AXljWoF/X35cZeU2tyiuR/KW9dh3cq2fmDRFt2ZhNLdYhazdV05OzuTa/a1tqmpbbJoPeObuAvgN3LWy7AN+2LbgC37lF2xczn4jP8vR/8hPAS1rOc+aBGWRsiV804KbGMhqOxjgwt2RMhzwroFWU0WWKFtCGmY2qQuR1GQE3AvjOssrRXw7SqOOua/19NS8vAX8GfuLcZ69EWza8IWO3lHP3mwp6btrOtE1Hzra5SKdx1DTWtE3N1ZNp23OfvpJA0fZnoDcma/s5ffd//lT+z3/h//4SCDCm1CfUoxCesYasbYx1DbNpQdRSnlTcgtCqUlOKrF5dHOBGAH+xrDU8lmq8J4M0UGbg0RLQq+C/IIEycCMH9DZszIat3eZ+e7c1TbOBMVtumw03bQZ90zjTNo6cs9w2ZgF9M/vy6zO37VKwUyP5NW9P66q8KwDuN5C5RoAZbM3SiOTmxiRma51xruEylxCgBoBTwBHQELF5bdofuBHAN5UL7U4F6OvyW4c8a6621zZE1KlqHqxRZufhEvxEmzInL/fWZ9DnIRuuyaBn3pamm06NyY03bevIWctNw9w2PGv6Anxui3lf0nemuYjkWzMH9UD0ulTbn5LzWEDNYrCZuxCJjLHGWmustcRsIZotN8CCYFVhSl3Gq5JXQwDGmPmw1p7tgauSUkKMESml+fgrXkfdRYdlk82Zdk8pWVV1IlJr7s9Av7p9eZSgUh6emUFPG2Pdhq3ZkDUb17SbbN67rOmbpjNNBb1rTNM6tSaDvqkmfoMZ+GvAr0p0s7lrc0qMs4lfS2f/vsC/EMJcJjzPHMiWD4HIsGFDTJYAq3kfQZ2OZMp3/8Jv4M/LVRNABRkALvvg2FpbzwZlXhtWIeU6uqneB86mxejqeZe9Jc9e5wXgqP+OMYZKhH7W8ACMqtpSEOKIyKnqsxofzxNAB1B2AUrQzzjXUdb0nWvaDTdukyfsuHw7g77hpmlMabGtmp6bDPqlDLeF6Zo5sr0uzV1M/Kztson/DwI9gLPqhDJgZN15SEQAgansICQi1josVMGAVgVwiwF8YyFaVkXNgFqfVbVuhqlgvwT/+guZf1ZxDcyssboGzph8duLLcMgavKvTYisJzLPyVkddZHGp+cuZGhB1zNyCuWVjW7ZmQ8Z0rm037FxnXFNB3xnnWnau5cY13DR2DXrTNMTNBejnRpxmLtQxjcs579JfXwN6cxPO/+Xb+rvIWqUsbccF/4aYmSiDfg7mYtEVr0qulgCKmc01Mm6M2TDz2Xk1vfUsqUxEWo71n/ySxq+DHlF+97mXM5MAVgE9LOA3ZUtNnSS7JoByUANCS3VsNnNLzK3JQzBbtrbNgHcdOdextRt2ruOmadnZhp1rTNNYctayyz31ps2gn8tv2yYH79oV+Ffdd2tN/4808f+gFK2wulc7CIBSRFwvksvbr06unQBM8aHrMIr7ctwx872I3OEZAnjmjGce/0MuAJ5+2TPjY00AoHMLoA7bIGqYuCHmlgw3ZEzDxjRsbcvWtsa5lq3tyLmWnW3ZuZasbcm5hp1z7Jxl5/L0nMZR1fTmDPBNDuC1q8fmYJ4D2TJI0ywTdG6gP5fFSczThHV1LsdyB7PFeHm8OrlaAig+ti1psg0TvyGid6vjLRG9BZGDgkHQotG04FSL+fasC1BO1flTnLsK6/r1hQBy4jtPqcjD6LjupyPAcp5V72CN4wJ+MsYV075hYyvwG3b17FoY07JzjlwZjGmtIecM2wr6HKQzjcMl+JfmmwbcurPqvKUJZ6nHf5VX6fcSRca3yDJPUKXcV00pakpJRURV5AkBSH7sVcnVEgCWNFoeSkl4Q0TviegHY80PxrkflPkDq7pSPAtRVRFBEtGU0rznvURmCtTnKGF9qE6Qm5/7jDU3k8AqCJgr9/KGWwMiw2wcG7ai6pQoE4C1VeM3bG2LMueerW3IWcvWWspHno/nHFE+l3FZdYLOAv6q4at5T2WiDma/fqnOe+lKu9ck81yAvEugjBErRCAiWnYNQjVB16vHVfSV7gm4WgIo/nYtlLkjorcAPhDzT2zsz6Zx/4LYH8DkyFhia6EEVSKIqMacBlw7b2egfy4LoKiK8mkQEMUCMNbQKg1QJsnCgMiSYctsnECdghyYHHFZbGGNY5Pzl2SMIWeYrWW2jqiOxXLLnLy5Eu2CBEypwV80vXnSebeoJXryJm7yFVGFpDJCPCVojJAU61DRlGKKKpJUkQCNOhMAIgC5FQJ9W6kZgI6I7gC8JaIPxPQTW/tv0zT/JuAn5HnybJpGkaPaKlDEJJpiwnq6VDb4dbl5Dv4z+l661spNzT7FbAEwMVUXoM7aI7LEbEXVKsHmTTbG5Dn3hthYImupTsXhOgzTurnGnpsGxmWtPpv+5Xnr6H0O5GXQ/14Dzg38vy+ErMc1Rsjq0HyIphRTCDHFGFUlQjXqsnY8qurNAvjGwsgWQAfgTkTeee9/SKo/J6J/e+j/V5h/pqZpDBNZtTC2Udt1IGvVAermP0VYh3ULD5wFBHX91OV3KhGUAIGWOAAYBAaINd8mBeVVVcyUHQQDYl4ttlid1wMpK/DPatDdihzKWOz1MgwuKbvVa10uPcUXHZmbPCul0COb/zFCQszTg0O+LTGKhBhTDEFSyrsBFAHQoHk5SCgE8OoY4GoJgIhYVRtVXWrhie6gcm+Ae2V+q9a+4baxvNnA3G1ht1u47RbsLBSE86/jue/mcjzFAp6vyfysGigkKmm1sq6KDdjwrKm5zLVfL7yYa81nC6DMwp8Bv2zAOQ/i0ZOX+HSk1qu7Dl9WFCDVbPr7Av56DgEaUpIYpxSiFxFfVoXPh6oGEUk3F+AbySoFeJlas8ZYZ5vGcdNYahzbuy2a+3u4N/dw9/do7u9Bzi0QWGFBLx94Rr78U3r+7lwpRgX8VVOb1Uqrc+1P1iza3WaCgFkm1Z4V5tzU+F8uBACpmP/eQ3zZIOQDxAeR4GMKYQreTynGSZKMACYAk0JHAP5GAN9QiAiaFzPOtdbzbSIDY3JBTNeR227h3tyjefcOzdu3aN++ATVu1v56ngO4kDUlVG3+hRf1xDhYPb+Wjz6pIy/a35jiu680+wrwZxr+m7TX3uSPChUHUFMB/+TLYFAPmSaI90l88OLDqCmNqjqCMAL5INAoIkFVXx/6cb0EQMj19esy23ybKW+NdM6YTUf27g7uzRs0796i/fAe3fv3IOeW2UxfRNOlPUCrx56ywGWl0ZwtWBEASpMQrY86CZfW8/Hq7/1ZsN/Mgf+tXH7OZ59kStAQF/CPEyRPB1bEFDXGESIDAYNhHpRoADAAGFQxiUjAKxwHBlwpAQCoFkAlgLqiOhdi27xXznYd3F21ADIBtB8+ZAvgd9D11B2glS/9J4BWiKAUCS+3Z1/93IzXJ7fWsYdbHP97CilAmleGSR0JPoxIYz5kmlKaJp+8HySGXkV6VZwA6gEtW4J0RA4EvkrD7SoJoHRgzcAvBxcCMMSGwWxgTW5fLSkyahqgcdB1DGCd0Fv/G9/w9V7Wgf75K+GynPxVXkuvUDQX+oQI8Rn8cRyQxhFxGDUOY4zjOCXv+xTiUZIcAT0hLwQ5qupJVafXmgEArpcA1nX2CwkwMTEbMmyUiUE1D85Q5tzG+iQnrs+a9H9EvmQP/LFcwXN/6bm/9pzcNP63kecxSfVHIkAspv8wIg4DUj8g9gPSOGTwT76XEA+S4lFVjgAOyOA/quqgqv611gAAV0wApePuwgUovZjMhohpiZrzHIF/2ujy7cF0g+frF1IFYjb9ZRoR+wHxdELse8S+l9gPIQ7jmPx0SjEcJMkeqntkAtgjLwgdkWsAXqX/D1wxAWABfm24YSJiLqV4YGJU0DOVUti6XPImN3kqs6OlCk0JCCEH+wr4w6lHOJ1UxjHIOE4a/Akx7SGyI8KOmXcAdqp6EJFTWRP+agOAwJUSAPCk556RN91WC4C1NADN215LEc63kOfKam608rplDX5cgD+cTgjHI+LxqOF0iuF08nEc+zT5g8TwKDE9qsgOwKOq7lT18Hcw/4ErJQBVZRGpBDAfpMoKsAJMeU5bAT8tu+RXLsD/FrRPUn7/+7fyB/6Vm3wvobICfE75DSPS6YR4OCLkQ8Lx5EPfD3Ecj8lPO43xQTU9AHgA8Ahgh5X5j1cesb1WAqhDN+oG55JIX92mxeef8+zzQN5vIzeIvlZ5ikkqtf4aA3TykGFAOp0QDkf4/QFhf0j+cPDheBrjMBzjNO1SCJ+R0mcV/QToJ1U8Fu3fv/bof5WrJADMZTJZ2wMgqDJoHrzIdVjjMrSRvjTO6wrkWl/XP0NmzR8DpIA/nnqE/RF+t4ff7WXa76M/HsfY96c4TPvk/YPE+CnF+Akqn1TxAOhOFSdVHVNuCpJXjv8rJgAtwKfZBchxgTyIoyJ/LqOlZwngBrx/gjyt8qudnMhdfkmgIUC9h/QD0qlH3B/gdztMj48aDocYj6cx9WOfpmmvITxolN9U9DcC/abgT8UNWGv/+Nq1P3ClBKCqVL5FLt8j0TKHj4ol8MQCyAdwA/7fX34PebXG/4nmP2af3z/uMD08atjtQzhkzZ/GcS+Tf5AYP0LSbwT8CqLfVOUzgL2qrn3/Vxv5X8tVEgCyyb8UztM84K8QA9FZDf6ZBXAD/z9ZCMXkL9F+rZ19/eLzh8cdxs8P6h930R8OUzye+tgPhzSODxLCR43pFxH5RVV/VZVPq8h/j9z++6oj/2u5WgLQJQBYA4IZ/ERczue+/6qj7ib/TJlNfhFoTLmff5qK5u8RDwf43R7Tw6PE/SHGw3GUU9/LOO7U+8+I8TeI/Jeg/zFM/42iH1XxiKz9ewCTqoa/g+lf5WoJAAA0F/bmvB4ti/fKHVzGAG7yz5Ra/J0LfGTu69fRIw2lyOdwRNjtdHrYyfS4C+l4msLxeIp9v5dxekjT9FsK4b+S0v+rKf1Xgd9SkgdV2YnIUUTmop+/Ef6vmgCyNTc33Fb/n2ixAGYqKA7COQncCnj+/kJlWCO0aP1S2y/jCBlGxOMJ4XCA3x007HZp2u283x3G1Pd97Id9msYHmUIF//9PUvoPVH9V4LOqPl7W/L/0+/3Wcq0EAJxjlxaA0wz+dRsuzZxxk3+CzFpfNI/tjhEym/xjLu89nhAORw37g8TjMfrd3ofDYYjH40mmaS/T+KDef9SUfoHIfySl/6rqrwA+qeojoAdV9Krwqhrxyot+npNrJQB69ph1f/1/+VGxD+YRfbhp/7+zEDRP4pfcy5/befMEn1Ry/PF4QjweJRyOKewPPp5OUzgce388nWLf79SHB/H+k6T4qyb5RVL6Baq/IYP/AcBeFT3y6K+/JfiB6yaAeq7dm9XZL6bAuQtwaf7fwH+d8jUUfe07m39WN/dUcz/42eTPHX094vGk8XhM4XgK8XDw/nAcUt/34dQf4jDs4jg+IKVPEuJvqvIbRH8F9GMx+3dYpfyy3/96u/1+T66VAIALF2BV+3PmAswRgrUJcJNXKc9NTVgCfMimfq3lDz6n98ai9TP4NZ5OEk+nGI9HHw6nMRyPfTidTjJO+ziOj3EcH5L3n6D6CUk+AvpRVT8BeBBJe1U9AOhVdRTJ1X6vcdjnH5WrJIDVGu7zYOAc+sdFHKD6BX9TO+0fJkvnHrLyldy+q2VmfwZ+Gd1VBnjEvpfU9zGe+hBOxykeT304nU6xHw6xH/YS/EOa/EP0/rOE+JkInwB8guqs9UuL74CS7hORv1XE/zm5SgIAgMsPnsouH73QE3SmKm4WwGuVxcTP/6spPRTg51n9IWv8sUzvyZpfZBhS7PuQ+mEKp9MYTqdTPPXHOAz7NI6PcZoeJMRHifEhhfBZRT6zMZ+h+ohs7tcS37FE+wPy+rgX+jS+n1wlAaw/+Orb6/y/+jhm0M/Gwg3/VyjPdOat/j8/Vqv3iraXGtwLYQnwjRPiMCKNA9IwShqGlIYhpGGcYt+PsR/62J9OoR/2aRh3cRp3afKPKYQHiDxKSp9V5EFVH1KMO6geFJi1fmnwSc++6L+pXCUBrKWSQZ7ZW62A/Mj6dKFCviI3lvhr5I9hpvpz8/NFcw4/rSL6qwUdaSojuscRaZo0jZPKOMY0DDEN4xSHYUzDMMR+OMZhOMRh3Mdx3KXczvtYB3oQ8FDy+o/ITT1HFF8feazX36a+/8/I1RGAMSbP1r8M6BmGMQbGmOWxVxb0oy/c/j35PWi9nLr6kna/uF+fVrS81tx93roLiQkS8zquHNwLSGVJh/gJafIq4yTip5TGKaRx9GkYhjSMQxyGUxrGQxzGfZqmfZzGffI+gz+lnYo8quoDE+1Udb8C/oC82mve6/dPMPkv5eoIoKwFm4N/czCQmNgwzT+br7RSA7B66Lq+xrKVSCXnrgsIZHX7MvxNq+wGgQCm+bG57wE4K3zQS4sIf+XnkKssnpCYlrrtum2n1uUXwFctP6/eLtt3U1j28CUfZhKQaRLxXjTEmMYpyDRNaZxGGQvwx/EQx/GQpukQhnEvIexTCDtJcScp7VR1V/38JFLHeA/Iuf1a2fe3D/R9Ta6eAIDaApSHATMzab3gV3GAeluvqAIoF6wU0zamZ8+ScpS7/EI+1f6GCv654WnZG7iMQTtvhqqPE60IY1VCURspz6wnegbMF7IGiVbiqgU5qtBKcFLPCZoEsgJ+1fYZ/GkmAIkZ/NnfDyohiISQZPJBvA/qwyTTNKZp6tM4ndI4HuM4HtM0HZL3BwnxEP2015T2RevvVvn8OsN/KH38Hnmdt+DadMULyDUSQNXywBri5XE2DJnVz1rrlVmAVwT+3JUWS6VajmKXizybuSFkIih1JrPmxwLqs8WjFehMZQQacLZybGUhrH/vrF367Fxf7NcJQIvPvpxLsE51ZdlIJru5Qk8W8kuStX4hPklr8EdojCohiIaYSCRKCCHv45tGmfygIQ5xmk4yTac4jiffD8fk/UFiOEqIB5W0TzHukU38cuAAaF+6+MYV8P9RQb7fk2skADAzcFkINO/dM+fh/poluBLgA4vfq4UAZCoFK+OENI2r2z4DQPQ8i7mabbAGft0/eAluXAAbjC8AfkUIZ27G6h9ff45nWj+/Ka2mva6JQM5M/Xz7CyQQEzRFlZhUYxRNKbFqlBCCxugpySQhjOL9kCY/JD/14sPJ90Ofgj8lH45xmo4S41FSOqjIAdCDiOwpB/cOAE6ADiXA50sLr+AfGOT7Pbk6Alh1/T5xAaoVkBaHuP7Ws6mll5Oyk1hWa6fGsnFmLlwZEIYBEuIZ0NYm+jnwq9Y/1+p4hgzOf+8pGZz9Xvm35n/+yTvB/Pq01GJAZSGBqvHPXIA1+AUqoppENSVBSqJJoqYYNcagMXlSnSSEUWMYKcmYfBiSn4Y4+V5C6CXGPozTSVI8SUynGMIRIkeFHgAcCDhA9VhTejWfj0Xj/6P9/K/JVRLAV12AUgtM64t3KQq4IqnjqFarp4593j5zPEk8ndSfepUQtTrYc+Yjn2sqhPKbLqsSLsCNPCD5Kfj5GTJYuxL136suR33ZdP4WllPV/FhZAXJBAgoVUUiOcqqoQCRBNKqkqEmCxuRVUtAYJykHiUzJ+1FCHEnSkEIYUwiDhNhLTD1E+hDCCSonFT1pSvOKLkBPojmqfwP+n5erIwBmflIGDIDyWqBsBayj4MuF+zwBPB0Y+X2EFGXxZCgEMJQZ9AcN+2P0+0P0x2OEaCRoJFAipkTEQkSCvA2ZwWSSaCWDfKZ6JsI8JLXyYgkE0EwcIFqfUSwsyqGG8wIqepYBMAcBtYB/9gVUVaAqlM8JigSRqEmjikSIRBUJmlKQmLzEOB+VBKAyJh9GTWkk1VFSGiSlQVMaVLUn0ElS7Ak4aQG9AicoBkBHVUylgu8G/D8pV0cAq+m+68uS6vYfZqZ66S4/XPzXL2cBvp+FMA+klAQJMa+d7ses/Q9HDbtd9I+7cdwfJhKZCJgI5InJE5EHKIHARGyIiEWFNav6Og6NQGBrLRnriK0hZuZyBjGTMYaYiFSUFELFfCedoyXE9bbmPQyzWTB/vovpP0cACVAGlIizXZ8kqYhAkVQkqUiUmFKKMcYQIpIEVY0ak5cUQwZ/8hLjJCl6SWkiYJSURhUZDfNYtPkALSu4iXsoTiD0UO1FdYRiBNQrEKCIIpLqS73JH5erI4DSeXXuAhAAEVIVUlHArHz+2RhYGwxXIApolDyUsnSsheMJfn+Q6XEXxs8P47Db9ySpB9ATqGemgYhHBQJlzW5AxCJ5J0K292dNT8Zats5msNeDmYhpfkyhC/hVSct8NRAYq8fLqz7zrQjV79fZ/UcmASEiVREpoE9QFRVNmlJMKcUUU4o+BBWJUAmSJEhKXlMKIuJVZFKVCaoTM0+qOhIwKnQAMGbtjkwA0B7QUURHVXgVKWY+UmnVvQH/fylXRwDVHT47dDkrdLb7vxT4u4pLoSyglBCRattq7mCTNAwh9v0Yh/5EKnsCHYjoKEQHAp1EZQJgCuCNJGGFki6j0RkAGWvJWlv3pa4JAMYYMsZwATBpnZwFnQOr9fOcq63nMMRCAyuLX0GoDKJEJCpZMgFAVIsFkIoNEGJEdm9CjsSLh8Ir1APwgE4AJiiNUB1BNCKP3R7qWVUnFZ1SSgGlaq906d0i+t9Aro4AsGiks6NoL4LOGe+VAXAlWr/IjJy56i1BUswbaVMSTSmopFElHZloR4RH1L1zpDuoTgAYUAMFqwqrKgPKqiBk0DKpUhIhGCZlZmUmKRHBZJiYmFSFRJVUBKI6a3sFGMUiUNVKspgjrCupVbJEM/iViUVVRVUScnotAUjVHJcS+AMQQBQBeOR6e48cqJuQS3EnZLCPWvx55HbcWqYbyyHzS7lp+28mV0cAc4T5IgaQfzhrsHUIAE9DBi8n879dIuMo6TDUHHkOlnmoDgQcKRPAZ4A+EeEzEX1GBsRqM7KulqSekSPjgijnQ5VAWm8XkGciqARSPuuVC6CEBf/zWymI0/JBK4gEBqX8DwnQBFAhAY3II7QS8gKNWM4Z/CgkkIFfDvWq6qEIUWKtza/EoqqqKf3t5nFehVwrARRzlBbTv1gA+izkv5gEeDnRdWHMcibVRFkLDkQ0EwAR/UrAbyD6DcCgCkN0th6dnjl/iQSw+hmeefxLz3/utq7O66MW1ogCiRYrID5zrAggN+AAGlTzOQRJ1ZKoYx9uWv77yNURAP7IRXltYL+QHLMsfQBazvlQKCJUJyh6IjoQ0SMRPiKvofoPEX5B9oHX4F8fXwJ+vQ/8DsgLts6eX62A7PsrXXzIT0hAdSaABIWAsgugOmv/qIpIlK2AlSmfalXezax/eblGAgC+ZNY+vaBfRC5V47noUga8cgGyNaBKQEIuTZ2QgX4EsEfeP/9RFb+KyAAAqjmTv/j9ysByv2bk6mOq1YRfrVX7Mpl+zTpYv836VlWhoBxLrI00ks1/nMUBMshF8gGpLkQF+g3s1yPXTgBfu/2XRvv/yD9ChIsRZcvzV1p/IQMRZaLIRMkwJzEmApo0k0LRkBKmaaoO7x92fJkVuU5Iz+oopFghIrkWYBlwqWUIT0kTrlKBJeC3vKW5EQDZIcOC5jlDgNl9U5HcBXjz269frpEAngd+zn+fPU7P6aovIvY7Gg3nZv88/AIqWotlVGQ2lYEzs/kPp7dSSl8D2eUHcVO7N3ki10gAwDMmP9XbpZENlQtWVYBfl3r9/7VEkOPkUjIACSr1ENTaeBVJmoOB1XzOVkA+bkC9yXcT/v2nXIeco6IwAK3vP735YqK6An2aO+SgIqU2fpUuowQgEmUr4FbgcpPvKVdnAawDRJfBIq1DKb4YFbgO0WdcANUEqCSVlF0AnYNn1fwvLsDNALjJ95OrIwBgAf5ZQdqzuFhr/svM1UuJrmIAqSj9ag2UUllJUVWiLkUzEYpYIuo3BrjJd5OrJIAqZ9bAWSq6yLNBwJcVwioDoIsLABElaJLZBUAEqII+ghChSLeE+E2+p1wdAXzt+q9VKHNYEPVMK1r43mxAuFTaqmepv5kMSg1AQg0AElKJAdQimnTD/02+p1wdAQDPkMCXML2yAK6qFFhKEDCd1wCQao4B5LLX546/9SLKm1yfXCUBPBGtOvbS/P9CJuBFZQkAQs8CgcqASEpJUkqiUhpplio6VZFb8cxNvqdcHQE8Wyr6e7HAl5Bn+CbXAGQXYA4EaiYCqCozJ8OcmDlZNpf5/yS5o+4mN/lucnUEgK/U/+tSDHRRIvQXZgD+0N89jwPMm3BE505AFZWcAZCkokkv0n/FGrgafrvJP0NeFQHQcvsvly+OFrx4ztMH62jsdS1A7g7SlJKmEgModQBrC+CWAbjJ95arI4CLYRQXJT95QsAyweqvlUsS+D10ZhdAn2YAZgtAywy9edhFnaJTYgA3ArjJ95WrIwBcZvez7qfFzF/b++uVVn+NcfDHELl6lp5vxyk1ACCtfQB1Qw0lAEJQASH9mSagm9zkW8lVEsBzewGoJvuWbZdPG4KuQErf/5n5r3mPXsqz8qoFkGfon7kAIjcL4CbfVa6RAIDnYgBlFDaBSOkc/PSiJFAdhToI4BL8UrfliKQkkpKUGMA8Tqu4ACI3D+Am31musRvwC0HA9Q6ws57gF5aVE6K4WJG9DAQlQCCaShnwE/8ftyKgm7yAXKMFsF5UAVRbPxcD0brkdxUkwEuTAVUr4LkMgIgaopTK6izKm3/yGq15lp7eCOAm312ukQCqPG36rU2C9eHZ/H9p+BdZzwJcn/MsrhRDkBhCiimuNX/V/rcqwJt8d7k6Ang+E7Zq9tFzTnh6++uR+7+WKJ4LAOY+AE2Syh69tCoBLsecFrzJTb6rXCUB0JOAXpm0W4ig7sdcCgOvxATQ2gm4JoI8DRhli47mtsDaB7BKCb6+CCAzn61zX2VvuNxmVS1bjcCqZ4tNUM9/svzhckS5GGPWY8broaux47cBpV+QqyMA4JkL4vIrPwP+y8YAyqjscueyBmDZBqSiuQZgjgFoKf5BXWf9h1BgjIExZgZeOa+2hRPVScCrzT9nt4ssa8JUiYionlc/W8qwVxuE6++Vf5/nBM1qfwERGQBGAUOFCEDgec/j2Rd2Xkr9hz52LDsKiepYNaoLSIKqBiKKqhqJKN22Bz8vV0cAczMQnRf5zBcxsCoFWM6L8nkZychAAf25BQBRRR6TD0Dr1l9LoBZAB2BDRPcpJUUGW/2Tl5qS5kWg5ViSo7OcjfhGUcx1Bdh689LlcanB16+jEgTKnSfbm8rv4XyhiVkd+edElQTK314Pa/1dcD5ZUIKzjUTkAR0BjEQ0qupERFM5B827CW+u1kqukgCeeRRaWoLrNVmvu3mN7Qu5AYv2R7EA1laAzoQgSYwkaUR0A9V7Ar1X6Fi0lqjqZv6b5+Cr58vbl8dzz/vS7wJPF4NUAH/p75/93ZXWJyJaryzLIAcMCIYURstjpGBdcrj5bymBqDZ70x/xhBYSoEsCgCeiAcAJihMIPYATgKE8zsiryf6wxfV3l+slAFXoDG6dB4I+/d6eav6XsAOKil6Z/rqeDESSkhFJjapsoPoGeQFo0LzFk1T1/uLlf+28Biqeuf17jz0H6t8D/5f+HqNaAkRMICYiBpEhIqOsec05wAowIXd1VrrW+X9VnsGlno+Ey4aglktChdkkhUYCvEIHAk4g7AHaQ7UDcCguSSU9D9ymLwFXTAC56yd72LnCBrN2KCpoCRbOl+af9iW/qagWja8r7Z/jf0gpmRRTIyJbKO6JNICgpMQKtar6Dsu7qec/AuA/r/1n86mY97qUU2bOJV60dNX0iwuBsoaMmXMAALMPwszMxMbkMxtkC6C4AJkIzl2As0bqL7VYrj/h7MkXElBVYaY6admrygjoEYqdqmwVaBVqAZhisWjR/tV6+EfL1RFAFZ3nf+fz2vk7u/bPruWXF50v4jLCvPjcMUYbY2xjTFuCxmL8MgAHoFPVEWuw5mt1BiEKOnN4jYnZENU4QI7FgZiIiYlUUPYHQlfA1zMSAM8W+OxL1YAeL+RQg4LZioEkIU0JKlIpmKBgAhEZw8yGTT4bYlMDgassQCaTFWNfmP1fIvBiA6w4YCYAoiSSoop4kTSoygmqb1SkE0kOAiMkBJzVXtTg6//+y/4byNURwDoSXS6UpxqPcKZCnncAvvMXO0OVQYZBxoCtAVkLto6Mc9a0bWti2AJQIjARNUS0IdC9qAaq0Mz/rbQ1lZongrWWjLWcg4GGiBkzCTCDmElUspZewF42Apf16mcWQP23iKtjP6cTimpXEZIYKYVAEiIkBJKUwAqCaNHoRMYYZmvZGMeZBUzR/lTA/8TNWCn9r31fK/rX2QkomlyEiVJKMWpKPqU0qKSTSrpXlhYJVjORKbLZH4koImcK/vH1F1dHAM/LOlK80vyXx3d1AZbLlqqFQsjgtxamaWC7Du5uC4qRkJITaGe6BpTN0YaItkT0BoRRVeMZ8BegLlY4EVlryRhDxlhiw0TMM/CLBQBRpWzjnufcVRdCwFxGiRXgF1O+/tsMkKREafIUp4nSNCH5QBoikShpEkISImJi69g6x8Y6w8YyMxsFGdXsAmg2/y/XmKPuHv0Dn/cC/2JaZQsAyaQYJUXPMY6SwlES3+eYi5KqChGlkhr0mjcz18zAjQCuTOjcCjjT/E8V/hWJAoBhsLPgtoHZdrDhDhBhVbXC6My2MwAq+EM9SoHQYhrPUKU5xAbMFgCtLIDqCpTwG5NcbPvFDLQzQuCCpPVnzJVp6mfNBJIQKRpbXkQhGWbSkEg0kojOJKLEUDKkxCRkColx9WH+OD+vrLxi88/36v3sBZRuS4VANCrJpOA3Ctkq4IhIAIpsTFCRUVWH1TECiP/kHoyrIwBaa6a1up990hUBXIa8XlRK7YJhkHPgroUJG9iUsqfN5NSyYe8bggox1SIWLRdp/jNnpn99hOb7REw1/a9zazRlD7e67EvyBIBSSZ9ARQk1QDkH9M6GsNLlPykApGwhrmu/ZbWfjdiAOZ+Na+CaFsa1YGNBbIplxqu3s/6nnrLBl77K2d6qGQFFBr/WLEswiZgB4gQYqBKgSVR7JhkENChwIqITgCOABkt9wj82EHB1BDBrPqDgfqUSVyn/PxI2+itFLy7V7AIQYAzYWZi2haaUKwWZCdYYOGtMCKV6MD9/PQFtyWoU13x1f62YV276ObCqlTwXIZWVZCnvKMh7SUocbdagBVrlQ6wvZ3G61u/zwiAjziE9Q2DjYG0D41q4pgUbBzIWxMXivyCA7DatsjrPZXfnG6vAan2r9bWX7UsSLSIx5QIr5MqnBE/AO5W0J+G3pPJOVfdEtAfQqqqtmYFnvuJ/hFwfASyAr9q/XoWFC5ZQGVDj5PnHL/0tKhHIGFDjwCIwyJlvthbcOPCmQwoBc+Rgfldr4NNMDgsJzPF2cAV+ReliBudFJClBYoLGCMmxMjzVq+trnp4tvjn3tS7Bu0JMTh6A2YCthbEOxjUwtslWgMllAPTM3znD3XMv87nnr4OGc91FglgHJs6/pGpUpQF0C9UtEd8RaKuKrareAdggV2Da5/7Vf5JcHQHMsDhzA1a1vk/yfbScXojL53+SCWQNuGny9VzAL00Ds+lgvIek0vdTuGy2BOqbqI/PXFc1/erNq4Jqx2FMGfQhQpBBTyTQZ0uj1x/S6nObT+fkU19X/j/Pr+VJOf/8mrkcBswmkyGb1e+cfVrL7yuwnvRw9rppfb+GXOsj1Qow4MiAKiRbPqQpWpXUgqUj4g5EFfQdgA2gLRE5euqb/KPk6ggAwHN2Z74xp61WBsHZM17YBiguADWAYYJaC24iNHXQmCApFrcAM9DOXQAs4LsAPoDcP1S0PKqW9wHJh2ziX8RNiRmkJtdRKQEQgLXGABbNP5/r+1hOGZcJrARSKn12WFwIyfUOXMFXrBERAUt9TQYg/cK389yjKwekmv5n3/HyxefPhwFjwSaBja0Hs0RLKg0b0zBzQ0SNKhoADUANESyucyrWd5PrI4BLzY9VVnquVFuefKnk9MIK+F70rijYLZ16agzg8oagWh249rvpDOjLK50fv9D4GfgRGgLUBwg8JJW/mRIkJGiI0JCyVRALUaTsGiDJRY9C3V70NB6wjrhDAQmZZMSHi79fA4qYZyCklMApApxrfpgIMKvCwief2pelNn/PWcIvfZnVLco1EeCSxSSQ0azlHeWCK6eAA9RB8/2bBfAK5DJGPd+eFQGdP+9FhGYSgDHLy1uXLy9P/eN/dWXmp5ggU0AaR8gwIg0jYj8gDuMC0Bjn59eYQAW/pvNW5RxF13L7PNBGq7iAFBcDMQFR8jqTdbcjCKqSnxcjEsdsfRDnMwtqdfGX7IAvfzS13Xp2/qH1VdbXm+uB8r+fEkTmjAWrqjNsrDHGGmMcsta3hQQsACOFuP6Jcn0EcMb0X6B9umSCy995OVm/4jkzgK+9qi//hBXZrI4RMnmkcUTqh/mIfY94GpCGCRICJCQgLdp/AX86A//csDRbJ4tLsC7KoXJTdbXsJGUC0LS0PQPZ/JcUkaIBcSjAN2AxUNFiy13mToqcWW1rd2R5PTV7Ucv4dW4PrVaWIEWPECbEEJBiREqRSMUwszXGGGOsKWZ/bVG2qsrGmBsBXIsoNPuawO9Ehf+8Sfkt5dvFG583B6gGuJJkE3zyGfSnHul0Qjr1CMc+3x99Nv/jYupnK2AB/3pAyRrwRZ0++27OHi5lhKQMaFplILJO15QgxABl8LMx0GSgxuQ4BHiVzat2gM4EMz+2cke0ZjHq7dVx5rYUEpAYEP2EGDxSDEgxEjSxsyZ3UDBx9k3yvAKFMimxMeabfJOvUa6KAMq0m4sqQCKwmavfnjiTXzSn9fee8H+Wv9x5LP69hgCZJsRhQDydkA4nxOMJ4XBEOPaQKcw+ORW/Pmv8FVCKKU2gOZW4ZFQXwp2zEWtbZhUbkJQQAyORR4yKJHGOviPFs27OWnEMACyp/IkKajwB+DkZyFeAjwsSyO9bJCGFCTF6pBSQUgRBWZXrABMuTVJLWuP7hYmuUq6OAKy16yBfDo9xJgZja+HW4gWcfXsvnAT45lIDfD4gjVO2AI494vGIuD/C7zMBaIjZzFbKAbA5eVcyAReFQ+tWgMsQ2OXneaaBJQcvVRJEanVfBj+VqjyhhLrgpLZCa0rgomVLF0/hFMnnC9P+vEJRl9dRXx8RuGRJmAnMNgcbVRAtIVpGNIRgCJAEaw2pJkop1j+xzh/dCOBapM67wyoODoDIGLLWwhq7qpmtT1vlhM/Or1tqAFFjsQDGKQf8TifEwwlhf0TYHxH7MS8eIQaxBVnOMwNLEG6ZF8hzhoHOPjc8BVoF5SrwVp65+n99mkI1VxiSJuQWA1lefwkOGmtWz1/78Yufv0r5ZGCbXGBkmMu1UaL8q2i/YQYzwTBDJMGPI6ZpxDQOmMYBkiIREYkkxBAq+5W3ry9fPfbCco0E8DQNaAwVC4B0Vf1Kax7HnDD6e0gFYbUAigsQahBwGJHGCeJDBroxMGzgXANj7RKBX1cWzn97BeHq6F+Y5k/N8rkAYDlWrkE15xXZEkCJ+FcLIMViAVwSwHwGrLWw1sIZC2ctXOPgnEPjHJqmQePcOQGUw3C2fFKKGPoTht5hcIyeCcFPqlANYaoXiK4+hL/RBfO/k6sigNrqClRlQHMMwFpL1liKAP4pVhupAikhhYDk/ZzqkxBLuW8O8LEp2tDkCjzmZeiOipylzapJv/jX5772eRAOWJMEAUt/wRxXyBF+LtV+izWRACFIKrgTMzcTVTdgIZ3sWhi0YMtwhtA1Ft2mxabbYLPpsNls0LZt0fjnVkB2AwjBexwbC2cZJqdQMJJqSkkNsxbnv7xAmp2PF/lyr0SuigBWMYAzK4B4sQCwqv6/PP+dvsnZPC/pN6l1/imVyH7JeScBc9G+olBJSPOWgVXL7LMgF1z628tzsrbOdTzZ/LbG5Io7UhhWWAaSIaSU6x5EFTEGiJThf9BcvaiZqGIMiDGdAb/+e9YawBkYNGiswaZrcL/d4O7uDvf393hzf49u0xXA84oI8lh0VcU4jjCcXRFJEcF7FUnig09ElGgZIb7ez/jP7QXGFRJAsQCKlCCgMbDZDQBSyiRek9T4e9sDNTUGrHTVbIUXE7t0/ImJkMTgEjIjQg6WlQlfVeNLnVQ8l+2mueX3zAJAAX/jYGwGJhGQSCEMJMuQaJBSgJZMANWgIFMtBsyvR3M6M/op/7uK4lZkv99SA4aisYxN63C/3eDtm3u8e/cW796+w9u3b9B1mxn463gAkIuVTv0JUEGKEd57jMMg3k9BxhRTSjHGFFKOBOaJQECE6j96JdtVEcDqC60uAKoLwJUcVl/WmSnwN5OahJvbgNcHM9gwrDWgpHDOomkbNF2HtutgnSsBQJqDZEyElFLWwiEghIDoPTwCQkqI0SMGD0mLJUAAuGnAMHCG0DY52p4MQ8XktFsyCCE34mQgZeuhBvCqmZ4kARKhwkip1COUUmFjDDZdi/u7Dd69ucf792/x4f0HvP/wHu/fv8f7d+/x7t1bbDabHBQsLk81+5IkeO8BIozDiFPjYAyrMRyJyCcRnyR5keSTJI88FdhDEfJKxhsBXIVkH5af1AEQc67iyCuo6KkD8DeVGeylq65E99kYkLOgpoEDwzmHbtNhs91is92i7ToYNmCTTWVbtKWkBO8nTNOEaRwxjgPGkTBqgqaAFBQicQa/MQaNZXStw92mw93dBkSUrQXJFkPwPjc+qSBGBiAgZjhrYa2bA3uSBGPXYpom1M1FBIA4E9l2u81gf/8eHz58wIcPhQDevcf7d+/w5u1btG2b05DFSqklvCGE3IPA86WhRBSJaAIwSEqDJBlSOQMYVHVUVf9PX8p6VQSwRIif/GAJHM2Y/5uDH8gEYArwrcnAL7fhHEyTAGI0zqFrmwzS+zvcbbewzsGWtKo1BtYwRAQheEzTiHEYMgEMA4ahwzh0GMcRscwRqASw3W5wf3eP+zf36LoNRLIvH0JA8B5j8fWTpOKwNbDWom1bNG2DtmnRNA6qwDiO8NMEkVoshGLOZwJ49+4d3r9/j3fv3uXj7Vvc399nUmtbNE2zBBKltjwvUq4dqeAnohMRDkA+iOgAogNUTyh7GXCLAVyPnAWqgLnQRJVnvzQ/jotyjmwmv9Yg4FKzuKq+m72fPGijHmQNYAyMs6C2ATOjsRZd22C76fBmu8Gbt/do2xa2ptOcgTUWqoIQQsmTZxIYxgHDMBRCyAQwB/+MxXa7xf39Pe7utnCuQYwxWxDTiNEwRAUphlIElM35pmnQdS26zQabboOu60BE8N7Dl5kItRiIKFsBXdui6zo0TQPnHIy1eaZA7aUoLkYmoDhrfu89pmlC3/ey2+3SbrcL+/1+Oh6P/el02g3D+Gmapk8xxk8i8gDVPYBTsQCiPqtx/jlylQSw3M9nojUxnAf+LvqDX6E8O1xsAUcZMTYf1kJtGTumCsuMxli0TbYCttsOb+7usN1u4JwrBODgnAVKlN77CdM4FRdgLMeAcZzmQCCIYI1Ft+mw3W7RdR2MMRjHCcZwMfljrsBbaeL57hyvWJaXzjGeFdGvKG8GeQgB0zjiZAxUFTFGDMMAZs6xixgRQtAQgnrv0zRNqe/7sNvt/OPj47jb7fr9fn84Ho+f+77/zzRNv3jvP4rIgxYCwGIB3AjgmuR5F0DmQpO1PAf83/s2vydZXP5bNVVJzz568XuEXNZrDWzTwDUNUtMgNg5iLVgEVgHHBg0zmmaxAu7utnjzJlsBuYgmF9QQYY6Qn8UBhrFYAmPupCsmNhGhKaa3tXZOuwEXswhX30xJTlzI03d9+ZQK9GmaQJzdFe89hr5H0zRqrVXNEXuJMSYRiSGE6L330zT5vu+nw+Ew7Pf74Xg8no7H4+FwOHwehuGXcRx/iTF+FJEHZHfgpKrTzQK4MgL4Ygxg1orVJMBsIuf712ED1PJX1HNNp10M3chO59PW2FkT1gdUgRCAEIGU8hAPqYU22fphwzAma/mmbdB1He7vt3j79g22222uoGscnHUgKEIMmKYJ4zDAGgPiPDQ4SSrmv0DjU8e4Bt3mqT8rN23pCVhXB5bfSQkxplyrcPHd6sXfjzHqNE2qqhJjkHEaxVmXrLWRiEoqL4YYYxARH0II0zRN4zj60+k0nk6nse/7fhiGfhiGfd/3D97736Zp+hhC+Kyqj6p6QA4Ces2LQW4EcC3ylADqxcQXP3vSDoDvq9u/IKpLz/08lCOd3RZJBV1Pr7tzpVo2aKSEdBrgD0eEvkccR+jkQTGiVNzO1Xg5qEazuV17AZb0qi7NQOtkylcwUE39Cv5hyDGDaZrmgCFAYDZwLgf1um6DtmvhnMuBy9qDQEvRDs2z+LXEbzSJSAohhCQpeu89Mwci8kQ0icgUQvDe+0oAwRcZx3EahmEax3Gcpqn33p+894dpmh5ijA8xxgcR2QHYqeoRwCAiXlX/8QtCr5wA6g+AMwfgLAtI5wHBF5K5+aUO6Kyju0It381HivHCRn6+mGk2ckQg41Q6/06IwwCdJrAIBAxlhhrMa8lTKegJIcIavxTGGA8gxwCmyWMaR0zTBO89YgmuPVccnzMHAUSEWNyHJVCYg35tm8EOANbZuWzXNQ7ONnBNntibffyY03YxIaWIlAQioswURcTHGEdRGaEYRWVQ0UFE+hhjP45j8N6HEEJQ1ZkAiiEwxRiHGOOQUjqllA4xxp2q7orWP1bwa1kI8szb/cfJVRHAl6WCX5+a/VdTDaR54EaMEO8h44Q0TfM5jRPiNEGeEMA5j83/L6EBUoX6gHDK4JdpgniPKIqAUugjAkMEd7C5m7KUxbbVdy/1ADWHnmJEiAHBB4Tg58Da7FasWoi5lvMBcw1CjieUVmNmuMYV4qZSlLTEDWwJQta/GUMEM8OTh6oixIgQvMSYQghh8NPUxxhPKaVjPUTkEEI4TdMUpmkKKaWgqj6lFFJKUyWOEtnvAfQADimlI7K/36vqAGDUvBYs3rR/lldCABcV/+v03/rHf+Av/FVCisX092V81zBCxhEyTtBxAqYJlFIpzy1dbAVgREtGo4JfykSfFCOQJC/XI4ayAWtaynwLsEOM6PsBRAwfApy1OY24arHNopAkczHPXAYMzNV7NW631GTldKwpkflao2CdRUq5wYeI4JyDdRbG2OKO8BzAlSTwwZf0Y6lFGAadpil676dxnPppHA8xxl2StJckOxF5FJFdCOHkvfcxxqCqgZkDAK+qHsBUgD0C6ImoL6AfUUBfnjcvBL2BP8srIYAsy2jorxcDfl97YHUhqawsgBGp74FxAsYJPE3QyYNVa9MTnMnFOrVFvWzQA1E2EiIEKQlCTJk4FDB5Lx9IFQ6Exjq0zs0RfzbV1E7FhUhzxH42lhTFFI9zWbCUceW1BwCqmaRKH34FspTHnWE0VPcEoBAaw1ibn19JpDAJAQgh5FRkSvA5d4/T8Sh9P4RxHMa+H45+mh5Tztd/VtXPAD4DeBCRU/X9AQQiCqglvcBUjhHAKCJTAX1ABn28Af95eR0EsIr4a70/n+l7I/6JzDpSNA/lLBN8ZBhAhQBo8jCThyGgcQ0aZrQAGqoWAK0sgKzRvQI+CSjmibxGFUIE4WzmGyI4m/sAcuVdm10AylF9ACBZNxQBlbBCTQWWI8XLcliFtTYX5jS5os8Ujc9cCMzlcl9jTQG+mYOQS6mulExAnN0ESYIYIrz3GmMMwftxmvwphLBPKT2o6kci+q0eIvKouXovrA5fzhMWS+AM8KoqmocT/NOzfV+U10EAs5yV/11fBOeJBTDAjBN48mAfAO/hmNGxxUYJGzborMsEACyamggqihEBg2gZ9plyoI8YYvJ0HSYqBUBLsc66T36ZAKRn+XktWnjyPkf1+2G2GPILyP/ruq4UE7k5pWhd9unbtkXbdmjaXLlnq7tRuvMyAeRR5iEEjOOI4+EIIkKShBC8Tn6KwXtPTD0RHZjokYg+gfArgf4D4BcAvwF4RC7e8ZpXfOduPtWI7M9HySt+zwD/T976+0fl9RDAk9Lf1fniad9dalhC8ggvCdkCiP0AKuDnEMAhorUWG1Xcs8G9a3C32aCa/cusvmxNnJLATD4X5mU7GzAEsIFYARNwt9ms+uU3WBflnGcVVz3/IoghgICinUNu4SUGU56uY6zBZtPh7du3eP/hA96/e49u05V6gxZd26LtOrRNC+tysG8ZRbaq6vMZ/KfTCdZapBThcx1C6k+9Z+aBiI5EeATRZyL6FYr/APj/AfiPqn5U1UcAfdHqqRQEKRaTXm9g/9/J6yAAWqP/2Ses4gPfT54AbU4DBqTgkfwEGyJYEpwClggb6/Bms8G7+7vc5fbmzZnmr2cVwcFaWCiQIkxphKpuQg263d/f4+27d3j39h02283cIVc77vTM9C+/W1J41TTPzwWM4dz/b3Ok//37D/jppx/x408/44cfPhSLoFmafNqmRPtdIYBSb0CZwEKp7OtPJzjnkFLC0Pdo2y5Z6wIxDQQ6ALQj0GfK2v5XAP9V1V8K+D/HGI8ppSnGeAP6N5bXQQBnchn9Owf/06LT7yirar86kpuZ4Mihs0AL4O3dPX744QN+/PFH/PDjj3j//v1sNs8zzwsB7Hb7DDrrsG/3+TkXBPDm7Vv8UNpn7+7voVr8bkml667U26+i+vlv73LDkLVoXANAy+Sf3HXYNA1++ukn/Ot//oX/+Z9/48cff0BXZg1Ukz+DPgO/tHKXoGCO+IcQYI2BisBPU00NJmbygA5QHBW6A/STqn5KKX1KKX2qJbuq2ovIlFKKKaUb+P8CeWUE8LRu/iXlKdE8fYRLs87GGGyNxbu3b/HjDz/g559/xr/+9S/8+NOPMGzm36+ugKjg/v4RjcvpNOvMrLnrii0iwrt37/DTzz/hp59+xrt3784I4LKwqo4BT0mw2WxgjQWB4KzDJQG0bYuff/4Z//73v/H//H/+H/zw449oGleGj/JcaVjTkLUlS1UQU0LSNNf2D32P4/GI/W6fdrud3+/3w+l4PPR9vxvH8bOf/MdxGn/zIfyWYvxcineOqjqoaii1/3/FV/iPl1dBAE+rfavv//IZgOUFLCb6+nXV9thN0+C+afHu3Tt8+OEDfv75J/z73/+Df/3rf+oo9KUQiHJNwXazBRPNwawkaX6OQsGFAH744Qf86+ef8cOPP2TTXsrYrycdlDRX9DWNy0QjAmstAJ1HcBMz2rbF+/fv8cOHD/jhhx/w4f171L0MRMtC01qKkev+c8oyhYhpHNGfTjjs93h8eNTPnz6nTx8/+ofPD8PucXc8HA67vj99Gofxl8n7/8YQf00pfVTVB1Xdl6h/TeVdD+v/zeRVEEBB1nL7yfmcBdZXy/fkh8vxXfV2HnqR02bOObRNi67tsOk2eXiHLV+DLgE8VUXwAXd3W2y3G3RdixDizC01C9CssgBv377N2vyLtREZsN57iCRM44RhGOZ/bxkhDrRNi+12g+02Dxjpug5ctvwunYC5AaiWH69687PG3+/x+PgoD58/p98+fvSfPn4cHj5/Pux2u93xcPzUn/pfxnH8zzRN//Uh/CopzdofS8OO3LT/XydXRQBf6gWo04B+L5X75T7CRf4KQpir+c+yE/lfSmWAReAAzwRfhmlM0wRfavEJWKXvFoB1XYvNZoNN183jsOZ3QXnVlyla25YS3bZp5zf53MqvUmoEN4/ryhZK/Wzmf3vTYbvZ4m67zSnGNv/dalnU+YLB56Ec45TJpD+dcDwecTgcdL/fy8PDQ/j8+fP08ePH4dOnT8fPnz7tHh4fP+33+19Pp+N/xnH6f4P3v0hKn0q33h454n9r1/0OclUE8EXRixtfqQJ8EZlDE2vzP98WlRwNV2CQhKN12O/22G622LQtXBmfxaXOvs65JyIMQ06fDcOQm3e8zxZFIRimTCjjOM5TfahochDN2vryqBpbSm3B3ONf3k4OZK7qBaYJChTQxzqQI0/4KYVE4zii73v0fa/H00mOx0Pa7/b+4eFhfHh46B8eHo4PDw+73W736XA4/HY6nX7p++E/4zj+GmP8TUSq9j+VEt5QCnle4Av958hVEcDzFgCdWwDrOOAVXRsKPDH9QUBKiiBBp5jAwcOC0HW1WcZUc5tqFJ2LD85EmKYJD58/Y7fb4XA4zARQfXAiQoihTPxxYM7FO7W0eDbXLwqNxmnCr7/8go8fP+Lh4QGTnzCnCJE/524c8yIOa5FSyjn8GBFTRAwrAihm/ziOOgyD9H2fTqeTPx6PfrfbDY+Pj6fHx8fDfr9/PBwOD8fj8ePxePxtHMdfpmn6LYRQ/f6diMymP25lu99FrpwAyiU5z9ZYdQNeo8ym/+ICiIjEJGkUFc0qVa21WkdjxRjRuIaY2XARYiImRoiRHh8f8enzZzw8PsJP05kmBxH6Uw8pM/6D9/P8vfxyLsBfbk/ThN9++w2//fYbPn/+jBDjYrSUz7ktZcVans/MmQDOLQD13us0TSmEEMdxDH3f++PxOByPx36/3x/3+/3hcDjsTqfT436//zwMw6dxHH/z3n8sc/oeAeyL319N/3/8oI7vJVdFAAAuqmuKyq8M8ESujAyK/1/BhhyRVx9DhI8hxBDCYCIzJQCxDMAQ1zgYNpYNG2ZjmNkQwCkl2u/3/Pj4yIf9nibvOSv+uWuInLWUUqKUIk3TRF3b1Z9jdV7fhfcenz9/xudiXSSRJ1WDNS4QY0R/OoGItAzjlBijhBAkxhi993GaJh9CmIZhGPu+H47HY78ay3UYhmE3juPD6XR68N5/CiF8SinVIR2HYvYPFfxEpPU9ljOv7s+vsZxrReB8vlkOf1yuigBq2+iTx+tRfYCLVNs6wPWShUDzuu2aJiNAVDSEEGSaRozjOKpOquJDCNM4jv54PHpnnbIx1mQrwLBhBohVhE99z8fDgY7HI3vvCQDNhgIzGWNYVVlVKcVEbdsSEXH5GFhVa5pkBlQIgXa7He12OzoejxDV4lHQDKwy4ENTShiGQVRVY4ypHiFLnKbJT9M0ee+nvu/HYRiG0+nUD8Nw6vv+MAzD3nu/994/TNP0kFJ6SCk9Is/mO2ru3x+JyCOP9OZyWACWiFw9q6ot7w3Ia70SypafctStP7fOvz8o10cAVDtWgJVN+gUL4MpkzgBgJikRFQkx+nGc5HTqEeIp+tCP4zicTv2w328Ga2xkZmeM4eIKGAAMgMdxpGEYeBgGDiFUAliTAA/DQH3f8+FwOCOAAv5KBkAGOYcQ6HQ60fF4pJIGnE2EChprLcZx1L7vtWkaVVWJMUohgBiyPROmaQrjOE7FAhjGLKfVWK5DSmknIo8hhB3KjP4C/KEAP5XX2RCRK0eLXDzZlXODfL2uCcAT0aiqUzmPRDT3/pfn3OQrclUEAOBZF2Bm8jqIsvxv1vRUQ4Uv5xLoPJfvPBCYVBUqMcU4+nE6xXE8hBAO4zQdTqf+2LbNkdl4qM4ugFkIgGKM7L3naZooxshEVAmAuKxRatuWj8cjdV3HzrnZbEaxAgBAVWfXIaVUiQXFqlhs60wcMMbo6XTCfr9Xa62KiKy0fwohxBhjKBaAjzGO0zSNMcYhhNDXsVwppQOyjz/7+SgaX1WFiAwywCvoOyLaANgQUaeqlwRgkC+MhNwS3BPRSVVP5dwT0YA8G8ADSDef4MtyVQTwVRdAz3+yqLTv8cp+T1asdZYFmMkrxhj95Kd+Op0O0zg+WmserbWP1tgdCGOM6YkLQACLCGcfP7GIEAAyxqyJgI0x7Jwj5xxZa3/XBRARCiFQCIFijBX8Zy4AEcFaq2UcuKSUnrgAKaUYQvAxxgnAVMZyDSLSI7fvHgroTwAG5N79iDwW1a3AP4P+8iCijogaZAJwWCyAWDR9D+AgInsA9aiWAmmeFHQLKn5BrooAviT16v3az19OVtdVMU3WQUAQqWGTiHkCqBeRg4g8pBg/efafCfRJRPphGLJ/S2SIyECVsQB4fZuMMQX/PJ/XcYHfcwFUlUSERKSa/HO8EMCaBJSIFLndVlJK5ZSi5l78ICJBVSdmnlR1IKIRwImZe+SU3kR5eo8U66hRVQegLdp9uwY/EW2NMRtm7qy1G2NMZ4xprbUNEdny+pGyTCmlvgwAfUgpdSklB8Bq/vzq+5pwswSelVdBAFnoC0SwPPrS3+553n1O16lxLlrrJmttb6w9QPFIjE9E9CuBflXgIKqWVA2yiWtqYK9cyGcaPcZIRbie689RtPzF7+PCEphJoTx+5gKU87raQpG1dlodkYhC0cIe2awfKS/k9FiCcSjvqQHQqGqnqhsAW2TAb4how8xbY8zGObdxzm2aptm0bds1TdM1TdM65xpjjCUiE2NU730qQ4H7aZr23vs7733rvXcxRnPxPhQLCXyLr/pvI6+HAGh9ky4fug55JgZAuRcgsWHPhgdmPkDlkYgyARD9R5Uesfi3cwBwdaxB+9zt9f1L/39+fB0HqPfrKy8/m99K6Q2oaBEsfnc9AjIJeCwz+qqpXf/tCvoWwKYAf0NE2wL6jbV2Y63dOuc2bdtu2rbdbDabTdd1m81mU0mgaZqmYWZXgpgYxzEOw+DLIpB93/d3wzC0xhg3jiOnlKikBOdJQfX+rbdgkVdDAPTcnetkgDMSyPq4RjRJVDUg+6U9so/8qKqfVKQm7HmtwbEC+Re0+B8hiPUndkkWeOZcRXFuAZxZAURUwUUpJUK+nhwy8DssoJ+1PTNvC+g3BfTbrus2XddtttvtZrPZbMu567quEkBbCMASEccY0fd9Oh6P0+Fw6A+Hw8E5d2eMafu+tyLCfvKIKQoR1TFhUgjN4+WNxauRV0MAZzJ/fZeLQV90HMhsAVwEAouTbuagXYpCqjIDUJJICOEPX5Sruf20PmMF5GL+P3d7TQCXv7O+X11mBaDMXGKxS0xCRCrgWwDVtJ+1fLm9XT9mra2afrspcnd3t7m/v9/e399v7u/vqwXQdV3XtW3buCI1PVqWhab9fu/bth2cc3fM3CETjylbjERURESEiBKy+V9J7E8tBZlLtPN3uWrKWmRZm6YoZsYf/fMvKq+TAKpcHY9X4PO5BVBTdvmoPvusuQt6//C7WV1cf1lXhMkrvWYrohTh1MKclojalFKHJWJ/puVLIG+7/jkzVxN/Bv/9/f3mzZs327dv327evXvXvXv3rttsNk3Xda7rOte2rWmahp1zxGWxQSEAfvPmDW82G26axnAeq1R/riklUVUJIdSAZY1JpGIJxC/FAyqZ1u/J5KirqTUazGxWRFrdjEoySURitY6wVClepbxuAngiL1kHgHMLgGciKPm6TAQ5cIeaIyxBuxd72WeysiKoaFtLuSJvXZizQTbvZ3Az84aINsaYtT+/tdZuSoR/q6obVZ1N/u12s2nbbnN/f795//59+/79++bHH39ofvjhR7vdbk3XdVyOsuC0mZeSFAKg/X5vN5sNFXKYXZWcoUyxHCGldFYpSERra2D9/ms61NT3jaU4qaUlHTmnGQEoESUiCkTkFeqJaKqxEV2mGF8lEbwyAnjOcl3/7IVdAKAAv5j/pXJfVFhUWVVKXl8YmKP7Nb//3aW6D1gskZyCBBwzN5RTdh0y4Dsi2qjqHLmvoHfObYppv23btgbwtk3TbIhom1LaxBg3KaUtM2fnfrNpu65r7u7umrdv39gPHz6Yn376iX/++V/89u1bbDYbdF2HruvyqjHn5slJIQQMw4D9fo+u64wxpiEirUa/9z7FLD6l5FXVi0jNVtTgpZTbpZFzLj92BegtEXUANkRzncJlQRKwBEcDEU0M7oVkoFyMNFCpVMRCQFdVovzKCOD65bkYQBKhJMJJlEWFkiSGgpHHmdbg3nd5bSstx8XEXWv5GrGvF/8Z+Jl5w8xdBT0zb5qm2ZQg3rZG7quJ3zTNlog2IYTNOI7dNE2dqjZN07jNZmO7rjN3d3f85s0bfv/+PX788Sf8z//8Cx8+/IC7uzt0ZRBK0+TdAzMBxIChH3B/f48mz1IwqtrEGDXGKGXVWPDeTymlUUTGUqR0ViasdTqyiKWl/LgS3RbAHYANQNvVZ+GwFCRVrVOzInU12YGYjlDUIqi+/Gwsz7saEnidBHCtWYAMrYszUCwAUhUSUZZUA4C6Ltj59i/nQsMzczVt15quQdZs66OW33YV9M65bqXpu67rts65zVqq5q/3nXMdEXXTNDV937u+712M0RhjuOta6rq80+Dt27fzbMOffvoJP/z4I+7v7tE0Dsa6s4nDgMLGvG1Yyj7EaRzRD4Pph6EZx1FOp1M69X0YhmHy3g/e+1FVRxGZkDW1IhcLTeUzalDcGVW9Qy5OulPgjoAtiDbE3BFzx0QNMVusYgCAJgKCimQCAPYM3oGwQy54csi1HQSAijVyFSTwOgngSkVrKTAvVgBAteqOy0GSUjH/v40FUMaK10xA1ezVpLfIF3sFfI3aN0TUqupMAMXP7QC0zNwRUWet7ZxzXQH9nKcvqbrN/f39ZrvdViugmvdd13VN0zSOiOw0TfZwOPDhcKCpzDRoGoeu2+Du7g7392/K7MPzwzmHs1rvUipOROCyu6DtWmzutri/v6f7+3t7/+ZNe//mjdwdj/F0OoVxmsbJ+1FEfPH7ubzHI7JLAAI1gG4VuKNco3AHojti3jLzlq3ZGGs3xtqWjW2MNVYVJo+BF9UkKcYQJMZJUjpJSgcRuYfoRlUbEGy2+OaYgaJMPPq/fO/fQm4E8I3lsiEIlJf6KpRVQapgWbRHzu/L1wlgPS0I50CffXcRMapqy+GQNXw91/Lb5uJombll5qaU27bGmI6I6rmz1nZt23ZVw5fs3Kam7N69e7e5u7vruq5ru65ruq6r5r1tmoaJiPzksT/s8fj4iL7vkVLK+xJcU3YT5MI91TLNWPISUoXO+Q1RmfcNipS1X0QwJu8v7LYbbO/vaLPd2O3dXbu9u9tuNhs/DP04DHYKwSeNyoXw7lAIICMSLUBbItqCaGusvSPDd2TtHVu7sU2ztU3TmabpjLXOWOsUYKiSpqgpxGSmKUTvRwmhTyHsU4x3mlIrSRxUamXiup5CiHKt0je8/P603AjgW8sC/JkIFDBEZIjZseHGMLcg6qjkxlX1TlXN+lqoVoGqkjGmFv5X7V6rBS3y37ZEVIFfU3X1aFBIgIgcMzflaK21jXOutda2TdO0bdu2TdO0lBtwWhHpSuquK5p9U4J83Zs3b7p37961P/zwQ/P27VvXdZ3tus50XcebzYY2mw2apgERwXtfA3bY7/fo+x4xhrw/RWTZHXg84XQ6YbPdwDpbqyghM/DzvoMkUo4EJcCUJaZtXlfG3aZzm+2m22w2d03TTs5aP7ERomhEpWXQnQJHIpqICaxoyZgtGd6SsXemcVt27s40zR03zda27WZFAI2x1mYCENKUNHmfwjAEM45jHKeepmlP3t9JCA0QjKSZ4EXztKM5JYkXTmbfCOCbCAGk61zgOhZACjWqaBS6geq9Qt9BMaAGhHIsYKSlG4/KbSoksq75rwRQD3txzNqfmV2ZM+CYuSmAd8651jnX1Aq7CvxynsEfQuhEpGuaptbldG3bNl3XNW/fvnUfPnwwP//8s/nw4QNvt1uqkfvNZoPnCKAG86y1OJ1O83hy7z36vsfhsMfj490yjkwB61xedlIIIKVUbifEWIaU1sfKSDldZgtsiOg+f84qChiAWhi+Y+YTEXu2BmBu2LktW1sBf8eNu+Om3ZrGbcm5DTvXsbUtGdOoMRZQhighRYW1iZkDM0+GuQfTgZjuhKghECV4lbyuOacKS1aCmYOIvGgs4JURQE31Ak+J8yWJdN0RuAzsrCSggFFoq4qtAm9EdaQCfgCkUIvij65kHeo8S9WtzoaIrDFmBj8zW2OMM8Y455yz1rrSSOOapmkK8Bvn3Az8Ump/RgDjOHbDMLQxxtYY07Rt60pxjmnb1tzf39OPP/5I//rXv/Dzzz/j/v4em80GbZd3HtSdgUR5BFnbtnnXQQjzUUaMwfsA5gH7/SEvHO1asM3zCJu2BZA3CkuSPJQ0RoQY5xXnZQw5jscjTn2PcRhomiYTYmxFdatABDHIGFf8+TfGuoGd9aZpQMa03DZbds3WNG7LTXPH+bzhpmnJupacdWytreYYCJm6U4SZvKZhEHK2I2s6yvGTJuXvRFQkqcaAHISsg0vqIJMXHX3+qgjga1UAAK6gDEAx19LMmQACiJiNaayzm6Zt75GiZ+JkcnGgJaI2iXhVmYdy1nciIrUCjldSB4haZjZN01hjTAW+tdauCaBxzjljTMG9q7017eo8m//OuYaImr7v3fF4dOM4WgDcti13XUflwNu3b/FDWXH2P//zP3jz5g3atp01fN0UDOTpQjEl3N/f4+7uDofDAae+BzFBoiCFvMaMmOEah7bsICRidElARIhpmUQ8LZOI583Du8dHPDw8YL/f4Xg6YZwmjpIcmDvTNsmKkDbOgXlj22YyTRNM0wTTtiBrW26aLTm35cZtTNO05FzLTdNw4yw5Z9k6JmeJ5w3IlIOSMUKmieKpN2QtsTEcanemqKjoyCEOktIAokHzwJIeOV1YJyDfCODvIKWi5KwOoCQCjLXWUdd1vA33reHkrEPjnHXONdbZLYG8LiYslelHVDb9cmm2WROAybNAjG3b1jZNY9u2tQXszlpbtX+9XbW/c861K2ugbZrG1cM5Z4jInE4n3u121Pc9pZTgnJsLc7quw5s3b/DmzRu8fbucnWvm7cDZ9CmLSZnzEtKyUtw1DswMVSDGvKMgxJjXnRkD1zQwxiKJohuH7EaEcAb6ugdhKLePxyMeH3d43B9wGgZMMSISGK1zVu66pnFsVBtYu7Vtm0zbJNM0yk0DWNtw03TkbMuuaUzbZNA3DXPjmJsG7BzYWrCxIMP5OxYFUoRME2LXgQwzETmoEkSgMUaT4ikZcwDRUVUPKCPRUAaX1IjuS8mNAP7Psi7jz9/lWRYgzwVgttaZtt24u5TUOWy61nTdpi2R9TfWmFgJoP6xYjLP03tSSmvtPxPAZrOxm83Gbrdb17atrQRw6QKsYgAV7NY5Z5qm4aZpuG1bapqGiAin0wnb7Rb7/R4hBBDRrOGXPQRlh8HqDGRvW3XxyVNKGdzMxUJwIGYo8s9CCBAR+OARilsQQsSp79FtNnMcYRxHDOOAcSjnccRYF5NME46nHodhwJAiAhO0acsn79pWko3QFtZqBb5pGnDTghtnuGkcWWu4aQw3DZmmIW7rc1whAAeyBsymdgEAMWUCqJubFKQpWY2xFR/uNMR7NtM9iO5VcQ/oPXK6saM86JTxgrMLbwTwTWRFAufTgGYXwFjrbNt2BMC0Yu622+b+/m57d3d/f3d3N7ZNkxQ5Bbb6o5imiepg0BDCExfAGGO226198+aNffPmjdtsNrMLUK0Aa6012TcwzjnjnGPnHDVNQ7XOvm1btE2Lpm3AxDj1p7kS73Q6IYQwpyJVc+R+GAf0/YBhGNC0DWqLQ+2KWyL3eWOxAnm7sLOlqm/ZnBS8RxIpf2/EMI44HI/oNl0hgFAAP2IcJ0x+whQCfAj591PCGAIGFXhjkNoWsAacGrYiDVDSKsZkUM/gbsBNQzPoKzGsf+4c2FmQtZhdgGrhpAidPKyz0JSySxA8ifeWh6llN23ImFpktAHmjslcVbhMOX4ReTUEsG5Mv74uwJWcNwLV9dlsrG0aEDljjAOat/dvtu/evQtv374N7969DZvNNgHF/18N6ig+Lh+PRxrHkUs60Jg8Qtgws727uzNv376179+/t/f396aC3RjD1lqy1lKZGThr7wr8NQHUKH21AEpH4Hy/Bu1iVCQRHA4H7HY7bLfbDAAF2PBZrl5Kui6EOIM1lei99z6DfRgwjRO8zyvIjsdjyQoc0G02YGb48nwffL6dImISRBFEVURVBFV4ZgTnkIyBqgMBZAACEwwTYO0MbNPOFgDMfH4KeqrxDM6mv+bULkgVMHmLk6YEs9nAbDawmw1iO7BtW6dj07I1DTHXgqul+pLI0XcqA/+SvBoCuET9c7mAa6gMzi4/V+ADxNkCMMY5ZtNa13TM8ubNvbx7905++OEH+fDDB3lz/0bX7mAJI2IYR3r4/JmstXQ8HmuFX+0uZmamzWbD79+/p59++gkfPnygdSCu3r4E//r++vm8CtyN44j9fj+TQolHzNF8Zs4EcLeFaxyUCNbaDPqYSuBuCd71fY/Hx0fs9jvsDwccytH3PaZiyscYYa3Dqe9xOPXY3G1hnENSQUgpA34F+gSdb0dVBCIkY5CsgTBBmUEmL08lZ8Eum/SmbbG4ARX0djbzF9AvltyqSiP/nwAGgYwthHF+kLOGnbXExgJkFWqhsMhZn9pQdCOAM/lSeH+l+uf5wLpOC37pd7+H6GKdrP1/nucC5DwAyDhLaNigafPm3+12izf3b/D+/fuz9dtcrIdxHGEKKNkYQHXZJGzyZuD7+3v89NNP+Pe//42ffvqppODs2VFBXoFej6rhK/mo5io8ZoYpzwcRUinYiSlBS85dVHI1X9eC2cCHkHcIpoTgA6bgywLRJWq/2+3w8eMnPD4+Yn84YH84ZAugbEoOMYGtgVfBpIpBBa7rIERIqogq56AHChGUbSCGIcyAMYCtoHeLdl+Z9qZpMuAvNf26jgNfNzgVyBaf4fz7xoB4PhMby2yMISYmEANqAOJcq6DmFgRcCREtM37OPpb6ZawDbrrihJfzCZ5kHomyj3h25Pdl2KAxBq112GxyHfzbt2/x7v17/PDDD7DOgrPFACYCc94QnGNNKdeRisBU8BcCePPmDT58+ICffvoJ//rXv+ZCGmMM2DCYzbxxmObeoOJSiZSPsGYgchwipVTrmHLKWxazvebi+54RQkSSvEH4/s2bmQDy0lA/p+3qFuHj6YSHhwc87nY4nE44jSNG7xFTyut9eCEjKduJbUpQpidaPwEQAoQZahhaQW8z4PPRwMznJaBH9hnzHoCe4fEPXlfzEBgu3//8WdcoMDA3fc0p3rnS889ec99SrooAADyjxefPbw68AvjCd3MNTgCeIYBcN0KGS9mqQ9tkC+DuPpPA+w/v0bQtLJsSUc9lsEM/IJVquZiy/zxbAIVc2q5Dt+nQlqNxzaK9FGUdOM4/nmpEFetKi0ZX0VKdF3KEvQB4HEac+hPGcSqFPDlod+pPmLzHMAwLAcSUQe89/LxFOAfsRj/hcDzmaH2MeXywYURy2WxXzSAsJnyAwkiCgpAUSKQQIohhKBvAmAxkZ2GcK+b8U8Czy8+hksYjNrN5/+WFMmuF83XRtTW6nBREWmZEg5Yhq+VX9PKx7y5XRQBrU/TiJ4sBAMz55coGV9BVCaBo1Gr612hxOWupXw8xwhOVaHY+pmnE5D2MtTBsYAzDGgtjGNJJDtC1LZx1OUtA+YJLkgBBBmgxsadpesYo0uX1VU0vF/X1qRwxIsYEHzz2ux0+f/6Ex8cHPO4esXvcYZzG7NOXSj7nHMZxQt/3uLu/g3WuuAulWq8eKSGm7McP3qNXxWQMYtMgGkZShSC7HwJArEMyDCaAoSBiiGHAZPOenM15+arhXXOm7YsPDrYWMHzu06NWaH4jhVFW1+XPVeYzVJSJhJmEmZMxRoA8Piy/TRUAGkL4Nq/jfyFXRwDPPHoO/jkCUMF/DeifmSnfKyY6l7QR2CBB4GPEiASEkDt5rAVxrv/33mO73ZZcewPnLKxziDHi8fERh8Mex9MR3vsnRBljwm63xWazgXMNmrYp4RFdNHu5KM9ScyKQtAZ/KlZGDt6dTkd8/PgRnz8/4PFxh91uh3Ecl3LeGMDGZkBPE7ZDj6Zt89TNOUKfz0mK2a6CCYqJCd5ZJCaIWIgCgvJ6AZC1gHPzQUWDz0G26tMXrW+WwNti2hvOQVguLs+lW/mnvttL0bUdn1OAJT6ynEVVJEmSpCrrkeoJhAR9+WUlV0UAwBdIgFY3yoU9n4HrMQEAADkgxCXdlKPNDlrANcUISQKIgIiXGXfjOBNA4xysc3DOQpLg88MDPn/6hM+fPz9LAK5pcmGaCKZV3f3ZIZkI1gSQwV8sgJhyU02MxcdPGIcBDw8P+PzwgN1uj/3hMPvr9QAnRGsQjMHIgCttuhns50cs4A4oZj87JLUZ+MjfvWGGYc459xXYZ9Cv77saua+gZ2Bl2i+a/q/5nle9ygsBxFhuR0AkaUpRpWxSIkSUuCUBEbkP4EVnAlwVAXzJAqj/zz9eKgLWlsBVCOUVpWDO2qppYLoWdrMppqEgiECiQP0EnI4QKHwhgNpB17gG1lk4m3Pr+/0Oj7sddo+PhQB46TmAwlqX22rL32mbdgnorcB/RgIV+Cnn6VMhg9xtl2+HEHA4nXDoB5xiwKia1+sQFb8dc048SYIPEc54gDn769BcLYtzAkjIgTshQHlxmdjaklKzs9+eQb4mgjXgi5ZnrunWPxS5/2aiyE2gIpAYy5HqbdUUk8QYJMUA1TyYNIc16pDSFx8KcnUE8JQEalrtwhi7tASehuP/2hf7jFRqoqrBmgam62C223mUt1Ap8xcBSYJOEyIzJhF0wwBnLayxsMbAlrTf8XjE4XjAcX+ADx680m7QPDAkxIBpnHA6ndAUAgAWC0B0fVsggrlc97kjSY4xZH89YWSCtwahgDlBEUXy+7EGiRkeCiu5qjWtwQ6FgHJ6ruTmc/CupCJL/n0Gvr3Iq9sK+pxew0V+fv35f0/J1YDZ5JcQyxEgIUBDVBKNJOpJ4ZnIG2M8UFapKbwCIaV0cwGq1AEQF4/mlFidtS96nv9fmf9zluBFkwHlojQW1Dhw18GEAJR0m5ZKshACQJy1Z4yI3mNQhSupPVtMYaii73v0w4jeT/A+zNZQDfYxMxIzgiqGGJcYAM7tpLp7eeHMVdBNs7YWlQzeYrb7GDCJYKLss0fmrNmxgFysQawBuxoQKxWRWlJsVABftXcFNK/Bb5/T8OdVeCtT8EVtv/kV5KafDHzvZwKQEERC8CkELylOquoJ8ABNgHoFPPK+ghsBVFmNvToTIp5JABCcXcUArikGsFgAJkejuxYmxaxtCVBmCGUNqKoQ4mxSS4JLBFeLcFBKV1UxxZTNb2aEUixU/zVVZItABClE+GnMWlgX0Jdnzh+blN9b355JoDwmhSCiSHZYrUEytIC+HErI6ThrocZA7apm3poV2O25Jrd2BXaTu+xsKaJ5ouH/Sl/+fy+kACRBQkDyHsl7SD3HmCQGLzGMkmSCap0KPAE0EmES1RedBQBcGQEUF2Bx8pfM2nJWrYnr/Evr88vWVGSp6aVq2nYtjJZiGyKkos3EmuwvqiKBEABYEVgQGApDDE4EgiIQEAzDO4dUtB8VgKoWa6BoZh8TLFbg13Pwa9Heqhf3gdVZIUrLz5ggxkApVwVqqW2ws2a3sw/PFdxmDfxzIphLbc1SJzFr+PIZAnNO5ft8b39KSgJRBRpT1vzTVMA/QbwXSikgyYgkIwEjM4/Iq9NH5KEgU0rplgVYS0ppvZt+fpzSkq4CcG4BrC2BF5AvXp7GgJzLJjGAMpEGZB2Sc9DRQXyZiiN5WigpwBCwEAwpuFbhAbm+3TmIMZjVO0oalAA1OaXmoeBa3VeBrzqDfbYCLohBCnFpNbGrFq6FTMZkrV4OnkG8Br050/TLc4rvXgB/1ik5f4gvb9b/vqwoSQFNAgkRafLlmJAmD5m8yORD8n5MwY8S46AqIxQjgAHAKCJeRF58XflVEUAJlK00P5VzyltfUgkA1BhAdYKf/Qzrg99Xg1RNjxoIrPerRVADg9NUzMYAjTmFJLXZphACCikoExQMZVe7BVf/YAZxIoInykQiaX73ayIAshlVOxZr2WoGeQYol+aZWs++gJ7L7UWD85n2v3y+yX97FZ1fl9leXQbnz4oKkFt/C/AnpHGCjJNKCFFCmDSEIfowpJQGFRmQ50AOAMayskxmpfZC8joIAKQpJZWUFIbLtfN1EvjSpfU96EBRlFtptuFVXlvbFhIizBwsytHjOY+c8uw7JMmpQ8k1A9naEZAuXlCNAawLVnV+k/M0onVb8qLRa8diiaovoF80PpVegrUWPwf48vzaAr2utAPOv4en30l95ddo5n9FVIFUUn/ThDSOiOOINI5I0yQyTiFN05BC6CWlHqo9QD0IPVR7zfGAF08BAldGACUl8oQAAFIpBEDMJZ0FzOWX66zAlVxLFYgZIASyBnAOKgKTZAF7rAUkFwRQCnWwKi2t2n9J8c3/0oyjs2aqVWcirecUMM1+N/EK+DP4+QnA18d5zp3m0MslwP+Yfr+SL+wPCgEgKbMAvUcaMwGkYUQaJ0EIQUMYEdOJRI4EHJn5BNUjgKMCfYxx0ivIAABXRgAiUn1/BUhLn4QCpCkJJInCzY7tRRwAV3YtVZ9WVwAESA3gcrpMVWFqWjOXjs5aXy8sgDMSWIP/mUuIVuDM/zZmc5z4wgq4CMQtRLHy01cAX9fPv/jV+52FgKXqLwTIOCEOA2I/IA2DpnFMaRynNPleQjhKTAeoHgg4aJ4DeITqAFWvqi/u/wNXRgAppScdU0BerSMpaUoJi/rHHDA8swBwbRfmRXCr4qf6w6YWlABzX9pMbHqm9ef3qRfaH8gZkBUBrklgvk0XwF6/jrPc+ipm8C0+glcvc8Q1k3GIkMkjDWMGfz9oHIaUhmGKwzikaTpICLvg/S7FuIPqTlX3AI4iMsQYg4i8uP8PXC8BzGlmAEJqpG5+5dn6Pwf/a7tgn7zOak6X23RhzhDwTQycL30+r+VzeynJV2UBv5+QhhGhPyGeToh9L7EffOyHIY3jIXm/0xgfVeQRqo8AHgHsVbUHMAF48fx/lasjAABSPm6lSgKsamKUGKM6FX3S6KKZCL4GkKvyDi5koa/nzOs/6knTDcTfXErar4I/RqifIMOYgX88IRxPKRxPPhxPQ+j7YxqnnYTwWUL4JCl9VtXPAB5V9aiqg16R+Q9cJwEsQcBCBFDVGKOmGNUWB7iCHqszcN1A/325JII/fpF8u8vpOi7MbyH6lXtP7avnZQF/gFaz/9QjHI4I+4OEwyGE43GMp9MxDuNOpulzCuFj9P6TpPQRwGdV3avqCTn/H2KMUntDXlquigCyUJ2/uLbqtbq+UNWzRpflB68c/Gv5I4b65bv9+wD3+8vzCcpLn1/GAel0QjgcEPZ78fu99/vDEA7HY+iHfRrHBwnhY4rxVxX5FdBPqngEcKjm/7VE/6tcHQFk8NcCoBp4ri7BEgLXOXq+BMrKX3ix136T1y3zlaPIhT4pFZ8/a/50OiHsD/APO5kedmHa7cdwOJzCqd/HYfgcvf8NIfySQvhFUvoNWfvvAKzN/6vR/sAVEgBAslgAVAOBijI+CdVlvnADSr7geqj1Jlcn9OxtBSktGZeaho0xp/r8YvbHYzb70/4Y4uEwyul0kmHcq/cPiPEjpfRfVf0PE/0iwEdVfUAO/p1UddIraP65lKsjgNwtSyULUM5EUgKCQoq6QfOiFqAEbHBF9tVNrkKeAL+mXKslWcZ4ybzZJ0J8gPgJcZyQhgEpE4CmUx/T8TSl4+mU+mEv4/ig3v+GGP8L0f9ISv+NMX6MMT4AulfFCbn5J6jqi64Cf06ujgCYWYhoHvMOIIE4EZEwKDFRXjSnSqTnRLAuLL2uj/lbyc29+TMyl1zUAHG9VpLkNt6Up/doLC29IWTgl/ZemTzSNCL1I2Lfqw5DkH4YpR9O6XTayzA+qPcfNcZfIPIfqPxXkvwmqp9V9VFz9d9QwP/ySf9n5OoIQFXXBDAfKppUJKmkRHmonUESkOS6+fylKohorompRS3n8udB9H//CzcBnuY4vt1fpSd/96xnQgrgY1rt7wvQCvqq8WcSKIM9pglxnETGMcVTH2UcRx3Hk45T9vmH4bc4Tv9N3v+/KYT/SEq/qsonnIPf4wWXf/6eXB0BIH9lFfgxnzVBJUpKSUJI8F5rB5aME3SaINMEbdzSclqWcXypTv2PvIiv/exGAn9O9Jnbf+4zfP4bqdH6OWpfA8N1Om+sWj6up/Vk/74efkUEmQBEQhD1IaVpDGkYfeyHSf10Uh/28P4hjtPHOE2/xmn6r8T4X0npF1X9BMWjqq6j/umLL/4K5FoJIE9OzZZABChCkTSlKCFEnaYU+8HG9oRQljqyc9mvq6OhVwMnaj18blxZLr+r/VZu8kWhatvpYtIv/ROlqaoO5gxhOReAXwK/3FYJUTQEkRiThBDEh6DBT2mcpjiOQxrHXkM4IsZHDfEhBf9JfPg1hfCrivymqp8APCj0AFxnyu85uUYCEGTwe+SyyQkED+gESZOE6GnyIQ2jC82J8yTZDHANHtQuU2TzsEkzj4yex02thozqahgF8Lx2eu4b/FpG/iZ//qqfeyCe+UtLei4ng2qDlDzR8Jegj88AP0JCUI1BJQTREBOJRAkxaAxBQpwkhEl8GCX4IY7TmKZp8EPfI8mBRHYQeZAYP0pKn1TkU4n2P6jqAZp3nrwG8ANXSAC5zkcDgJGIeoCOBBygetCUDhrCQZnfpHGgZI0LzJYIBFUS7/MgzsZdkMBqJt1qoMW6JbY2yDAtl9xzE8aeK9HVZ3zQm3xJ9KzPoTZ8nvvv+bG5Cap2R65m70sB/JlpfwH8FSmohqgSM+BRLckQvcToSSSDPoRJQhyT92OcplFCGJMPg4QwhGnsCTgSsGPgQUQ+q8hDyfPvVfUA4KTIvf54BeAHrpcAIrL2PwF6IOIHABsV6STGjogaNRyTMRsibghwkGRlmpgaR+wsUbOMlKZ6ngngfFzVPOSikoFZBmactcbOI7MuXnM5/57V8E+SP9KXQdWMx+K7z3l4SYuGT8u8fQ1xnsGvay0/B/byTP6s5aNITAmxNJKEEDRGj5gq2CcJYUJKY/I+gz+GKfkwpuBHTWmUmAZJaYgh9Mx0NMyPYN4V4B9KsO8EoA76uLpc/9fk2gmgR2bXDiKtxGglhDxzhmhIoC2pbklTpzE0Mk0NNc6RtYacZXaOyVpaLAC3An+dRruecLMaiHE27YbPJ9+UpZy1v369qIPWrbZfmIzz5D3/yceBJbX11efR+fP+lDyD4K9aOHp+Z87A1DoNrFqbZRWoEwUklfkH6WJQSgH7Oj//jPbP2j2qxHiu4WP0ElNAjJPEOIkPk8QwaUxTBnwYJYQJIlPyYZQYJ01pTClNEtMI6KAio6oOklJPMAclPcQYj6o4Atqr6qDACNUJQIwxXkWb7x+VayQAlMipV9WBiI4i2hCSTTEQPIFTEknxRNC7pLJlkQ1i3CD4zjSuhbUtO+dgrRNmS8YYWMNsHJG1tAB/NXu+zry7APwZCZT7CwksE3LmNeC0PL6ewnM+nQezRQECGHS+lvrZDUn/mw/z/O55i5E+ZY5nZg0uU5drQ8byu3MfRq3MXJntKJuIVKWUa1+cy9QjlVJyW8+1ICet8/QrrZ8tAZUQVWNMGpNQSlFiDBJj0BC9pui1+vIxThrjFCc/SQhTCnHUFKfk888kpYlUR0lpUpEJ0FFFR1UZASpDPHXIgT09xRh7VR2Qi3vGkuaLRWm9KvADV0gAkqfeCBF5IhoAcsxqSIlVVUVUjI2BojmRyF3yfpOmacu965pt12nTduRcq41t4ZpGiBqytiFrnBhnlWBhjCHOa3jJGCJjiJjpyfgrcw788zFaq8k6Z3P2KvC/QAJn03b4bEDH09vA2UCP6j3/GX5YAba0UVyAdX0fs5Y+Gzqyfnz9N84GlDw9Pwf+HMDTFfhlrsSbI/kV+ClBUlSNSSUl0RhFkyRWjRJi1Bi9xuiRxEsMvpr0GuLkp7GY+HHSlAkgxXxbRSdJcVKRSUUnZh6hMgEYkRd3jKoYiTBm8OdhnjHGCRn4vsSpYmnt1fpJvza5OgIoIshDE0cimJLmVU0SoTGopBFEJ01py8Zs2dgNWbNJQ9vZxnXsXMvONaacydqGnXPsnFMiBzaOjbFkjQOzTYAFswGTARFT2VBCTARmKgAnMJ2TQiUBeoYELlyEeQLvDO6FHGbQ4ykZrK2Fc8Pg6yxQ5/uca/Hlvn4R5Hg6eWg9fKX+3gUx6PrxCvrnSCCvzYamFQkUFwBJVCWppiSakmjZWy4pBU0xSkweMQVS9RLiDHqNsYLfSwxTCnEK0zQVk35SkSmGkDW86kSgSVQmZJBPUJq03p6Xd2BEDuhNpY4/XIA+r1d4Pe7+s3KVBFA+1Uh5kQJQUoOAelUZIdQDOAhwJzFuifwGTBvxvovWtGRMx9Y2xrqWnW3YOlfPSuTIGEvGONs0jq21SrDEbMFsidnUsxq2CjUKquRgwFRmZ9NCEBn0lKficpnCe0kCBdDMX9D2T2+vSWEBf8k4/FEr4GxyElaaG8+QwIV2v7Aa1r/7BPTPWgHFx69kIFJWDmVTLq8iEiGRpCKJVHOtR0qhbNUNSClIjF5iDBn0yZNIfizEKW/fKbdTnCQmrylNYQV4AJOklFPKwAii8jiVx3QEdFKliUirhj/T8iIifxfQr+UqCQCYi4G0fOgRgEdJDarqkYjuVPUOqhsQbTVpl0Q7CdwRUQvmlpkbMqZhYxu2xmUCgCNjHBnjnGvsQgDGkmELIksmE0AmA7IgNuVnBpxvE5fbzEbzZL/FeiAqZkMhibLyqICbaNb6JXhIvAJ8vY/zib4AaszgT0cIzvz5S82dP+6lq/L/397ZNseNG0G4e8CVfP//t14lSxLT+TADEEvLvrhySSx7nioUXxYra+XtxgwAAvcoAa/vWToDpBHrp03MuD96csMBxhHOeM0brcfWxD6nd6v76e6nn+fp53Ec+36o9xO97957iv88+nHulPY0hd1739X9Ke+7XE8pRL8I/klynr+WEH1e75If0hT8eBZFCp/64S/xZ+BnNYAZBQBzS/knYm71nwDeAXwB8MdacrTgi4B39P7m4DuJN9DeaHzQ2kPSA2YPmm3H4/Fo27aJ3Bit/kbjRmsheLPGaPVHhNBW4dMYqQPYaGaWfQs0MzKPUd9ImgOm2MrPMi+wYQ6RO6TsY2FELrl/usdkhgHf8IMpyfxj3u5N8a/hwWzKpeEIuSRbCHh0AjgRS7YTcEmuaB3DrON5d0nu3t3du0MS8zUKbsau7h3uXWkC8H4qDaCf53Huz8O7H+r98H4efvbdz3NX7wfBXe5RpCeBXcATwg7gmaH8X5UM6XUeRz+z43k0OL+s4O/8tAYAzLB1LBDaARzu/k+Sm6SHmb0BeAPwBcIXhCkMc3gD9C7hDfKHHG+kP7r7A9IG4uFte9Bsc2kjuZHcQLY0gxaiZ6PNeyMaiHsh8k2AsbVmZkZro77RLHoXY2vjJsCAFP8lejNrtHi70WxGDJp2YJREQWP+MjMtmCHCnCCbYlc232sHVSyxpgGUe4YP5u5Lko83M1SfLTkckAiKhJNUij8XavRpCO4eVtC7L5FAJ+BGejzc1UcUcI7SY8z+OI79lPsB1xFC90MeoXlrdgyxI8S/X+F83A9D0JPkzOERoj8BjDW5Rgv/S4X1P8JPbQCDjDQFoJPsJE8Ae+/9HyQbyQeAh8EeAN4hvAl6J5kGoTcADwAPSBEFSA+xb5Bv3n0DtAHYJG0ANxANEdpvINplDmkGYRQzBbCIGswso4BIB1p0KEZKIGg1gIwCEOJP/4i+hCsHSP2HAYS25/jhSCxGB+HQfv7NhPm9DhNgVHJduscHBuCY7gExbQK6FmQh4Lluw2UAHgn/NADJ1bt7j2ggf45TcjPL0H8UdclPSKeHERzneR4ETxK7gAMx3HYA2FP8a3kCugxBeGb9090PAL3H+Jzwmwv+zqcwgJUPzOAguINg770ZrYHYRpRA8AHiMgAoCzYpjq/ixyZ5g7ABaJJa1MGW59EZCDQCG2KU4hI8h/g5Wv82+wSgTAEWA2AagDVaM4uqXNQfKo8IAJTEIf94cVgBRr6uK41fE3mKvL7818nwBLm6q7uPvH6mABoteJjCXLHJSHd5ij88JIpfcYC7UxKYC7qA3pp1aDzliS6iMx8AU6yac0A6QBwA4/wS+3KuXcCT4GjdZ6fdXfC/S0j/o3w6A1hZJl2MvK3ziohJ0lprllFCw4vIlYaAm/in4NfjNAEADWkEAhqETS4T0ehuABujvkUUQUPk/c0lkzIKiNzdBEzxRwgw8/2r0zANAGEAeHkNwwYAzKxpSvs1BeCQ9mUCWGMAH+l8CJ8pIKx7NAACKSOdxkgX5g7j43wmF/EDM10g2GF0iJHSKR/7Fk4wDCDLAeCEcOASfLb+czhuhvPde4bz89/FZ5uQ8//iUxvAneU/fX5xW27QeekqhEdyiLF9IPq78D8yg3HeFNFAiP66n+cheAkGyfBqAhahvUyKpZDyl7T8HMMI6K4Uv2IDoaH/ecgPfgX9s99+CDnr5Q6sI0546ReQ+7L2YizQeomfUK6g5yAEcfQLvGzkAox7ut176c/pGms9gHcTCIHH0O9o1cf4e+/uPocdKpz/j/ilDOAjbqYwjg4AizkAGPk0MgfHKtKvRI8XI9Bo6Rti3oAhTGEYgn2n8IPjWhBH8cr/hWsu8Xh9co31je7+62HbGQ18XW+24nmf6725Wcslao7zm/hfRa8RNeQ0IIahdI0UIE1A0eL3FPnaSedLpIIS+9/LL28A3+MWJq7imC+YzZG6S5RxMcQ6BS6oEbQwBBjAVfwNYSZ34X90fhf3yz1d84DudW/iRjT1zI6D1QSE1+vXkvuRcw795bW/1onpPfiq9b8bAl2SSI4RgyHqVdwzeXH3CuH/R/zWBvDvsHQerQbxFTejmB13i3FY5vG2XH9L/C8pAD42hPv5+nu+/r4a4Xx8pG/Uu+f7Epbt2VKs8bFm3L0eMa51Bee/zXj6Z+WHJ5UVfz/56MHsp1hy+pnfZ1/BvL9WWOoAI6a/6mqpq2/VGy1vCbYoiqIoiqIoiqIoiqIoiqIoiqIoiqIoiqIoiqIoiqIoiqIoiqIoiqIoiqIoiqIoiqIoiqIoiqIoiqIoiqIoiuK/yL8AOWTpc5R08mAAAAAASUVORK5CYII=\n",
         "text/plain": "<PIL.Image.Image image mode=RGBA size=256x256>"
        },
        "metadata": {},
        "output_type": "display_data"
       }
      ]
     }
    },
    "1c7e27cf72524eae8aef2d7639d7d8b9": {
     "model_module": "@jupyter-widgets/controls",
     "model_module_version": "1.5.0",
     "model_name": "SliderStyleModel",
     "state": {
      "_model_module": "@jupyter-widgets/controls",
      "_model_module_version": "1.5.0",
      "_model_name": "SliderStyleModel",
      "_view_count": null,
      "_view_module": "@jupyter-widgets/base",
      "_view_module_version": "1.2.0",
      "_view_name": "StyleView",
      "description_width": "",
      "handle_color": null
     }
    },
    "612aada1e6114b98b4a0153bd46d6b86": {
     "model_module": "@jupyter-widgets/controls",
     "model_module_version": "1.5.0",
     "model_name": "ButtonModel",
     "state": {
      "_dom_classes": [],
      "_model_module": "@jupyter-widgets/controls",
      "_model_module_version": "1.5.0",
      "_model_name": "ButtonModel",
      "_view_count": null,
      "_view_module": "@jupyter-widgets/controls",
      "_view_module_version": "1.5.0",
      "_view_name": "ButtonView",
      "button_style": "",
      "description": "Run Interact",
      "disabled": false,
      "icon": "",
      "layout": "IPY_MODEL_0ee609b6727648ae944b9d1e9779e1cb",
      "style": "IPY_MODEL_dfce205046b94a97a36d015fef75b4c7",
      "tooltip": ""
     }
    },
    "6857b5f6d2cc444498d4c4e3e214412d": {
     "model_module": "@jupyter-widgets/base",
     "model_module_version": "1.2.0",
     "model_name": "LayoutModel",
     "state": {
      "_model_module": "@jupyter-widgets/base",
      "_model_module_version": "1.2.0",
      "_model_name": "LayoutModel",
      "_view_count": null,
      "_view_module": "@jupyter-widgets/base",
      "_view_module_version": "1.2.0",
      "_view_name": "LayoutView",
      "align_content": null,
      "align_items": null,
      "align_self": null,
      "border": null,
      "bottom": null,
      "display": null,
      "flex": null,
      "flex_flow": null,
      "grid_area": null,
      "grid_auto_columns": null,
      "grid_auto_flow": null,
      "grid_auto_rows": null,
      "grid_column": null,
      "grid_gap": null,
      "grid_row": null,
      "grid_template_areas": null,
      "grid_template_columns": null,
      "grid_template_rows": null,
      "height": null,
      "justify_content": null,
      "justify_items": null,
      "left": null,
      "margin": null,
      "max_height": null,
      "max_width": null,
      "min_height": null,
      "min_width": null,
      "object_fit": null,
      "object_position": null,
      "order": null,
      "overflow": null,
      "overflow_x": null,
      "overflow_y": null,
      "padding": null,
      "right": null,
      "top": null,
      "visibility": null,
      "width": null
     }
    },
    "b18c2f5d77da40e197209a009cd1d2f3": {
     "model_module": "@jupyter-widgets/controls",
     "model_module_version": "1.5.0",
     "model_name": "IntSliderModel",
     "state": {
      "_dom_classes": [],
      "_model_module": "@jupyter-widgets/controls",
      "_model_module_version": "1.5.0",
      "_model_name": "IntSliderModel",
      "_view_count": null,
      "_view_module": "@jupyter-widgets/controls",
      "_view_module_version": "1.5.0",
      "_view_name": "IntSliderView",
      "continuous_update": true,
      "description": "x",
      "description_tooltip": null,
      "disabled": false,
      "layout": "IPY_MODEL_6857b5f6d2cc444498d4c4e3e214412d",
      "max": 8,
      "min": 0,
      "orientation": "horizontal",
      "readout": true,
      "readout_format": "d",
      "step": 1,
      "style": "IPY_MODEL_1c7e27cf72524eae8aef2d7639d7d8b9",
      "value": 4
     }
    },
    "c5a9aa2eeb2443578d347d849fff03ac": {
     "model_module": "@jupyter-widgets/base",
     "model_module_version": "1.2.0",
     "model_name": "LayoutModel",
     "state": {
      "_model_module": "@jupyter-widgets/base",
      "_model_module_version": "1.2.0",
      "_model_name": "LayoutModel",
      "_view_count": null,
      "_view_module": "@jupyter-widgets/base",
      "_view_module_version": "1.2.0",
      "_view_name": "LayoutView",
      "align_content": null,
      "align_items": null,
      "align_self": null,
      "border": null,
      "bottom": null,
      "display": null,
      "flex": null,
      "flex_flow": null,
      "grid_area": null,
      "grid_auto_columns": null,
      "grid_auto_flow": null,
      "grid_auto_rows": null,
      "grid_column": null,
      "grid_gap": null,
      "grid_row": null,
      "grid_template_areas": null,
      "grid_template_columns": null,
      "grid_template_rows": null,
      "height": null,
      "justify_content": null,
      "justify_items": null,
      "left": null,
      "margin": null,
      "max_height": null,
      "max_width": null,
      "min_height": null,
      "min_width": null,
      "object_fit": null,
      "object_position": null,
      "order": null,
      "overflow": null,
      "overflow_x": null,
      "overflow_y": null,
      "padding": null,
      "right": null,
      "top": null,
      "visibility": null,
      "width": null
     }
    },
    "d34e3daecab94551a4bdc740a68a1169": {
     "model_module": "@jupyter-widgets/base",
     "model_module_version": "1.2.0",
     "model_name": "LayoutModel",
     "state": {
      "_model_module": "@jupyter-widgets/base",
      "_model_module_version": "1.2.0",
      "_model_name": "LayoutModel",
      "_view_count": null,
      "_view_module": "@jupyter-widgets/base",
      "_view_module_version": "1.2.0",
      "_view_name": "LayoutView",
      "align_content": null,
      "align_items": null,
      "align_self": null,
      "border": null,
      "bottom": null,
      "display": null,
      "flex": null,
      "flex_flow": null,
      "grid_area": null,
      "grid_auto_columns": null,
      "grid_auto_flow": null,
      "grid_auto_rows": null,
      "grid_column": null,
      "grid_gap": null,
      "grid_row": null,
      "grid_template_areas": null,
      "grid_template_columns": null,
      "grid_template_rows": null,
      "height": null,
      "justify_content": null,
      "justify_items": null,
      "left": null,
      "margin": null,
      "max_height": null,
      "max_width": null,
      "min_height": null,
      "min_width": null,
      "object_fit": null,
      "object_position": null,
      "order": null,
      "overflow": null,
      "overflow_x": null,
      "overflow_y": null,
      "padding": null,
      "right": null,
      "top": null,
      "visibility": null,
      "width": null
     }
    },
    "dfce205046b94a97a36d015fef75b4c7": {
     "model_module": "@jupyter-widgets/controls",
     "model_module_version": "1.5.0",
     "model_name": "ButtonStyleModel",
     "state": {
      "_model_module": "@jupyter-widgets/controls",
      "_model_module_version": "1.5.0",
      "_model_name": "ButtonStyleModel",
      "_view_count": null,
      "_view_module": "@jupyter-widgets/base",
      "_view_module_version": "1.2.0",
      "_view_name": "StyleView",
      "button_color": null,
      "font_weight": ""
     }
    }
   }
  }
 },
 "nbformat": 4,
 "nbformat_minor": 1
}
